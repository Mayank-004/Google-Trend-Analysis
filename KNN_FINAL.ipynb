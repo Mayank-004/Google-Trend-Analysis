{
  "nbformat": 4,
  "nbformat_minor": 0,
  "metadata": {
    "kernelspec": {
      "display_name": "Python 3",
      "language": "python",
      "name": "python3"
    },
    "language_info": {
      "codemirror_mode": {
        "name": "ipython",
        "version": 3
      },
      "file_extension": ".py",
      "mimetype": "text/x-python",
      "name": "python",
      "nbconvert_exporter": "python",
      "pygments_lexer": "ipython3",
      "version": "3.8.5"
    },
    "colab": {
      "name": "EAI 6010 Final Project - Binance (ADA).ipynb",
      "provenance": [],
      "collapsed_sections": [],
      "include_colab_link": true
    }
  },
  "cells": [
    {
      "cell_type": "markdown",
      "metadata": {
        "id": "view-in-github",
        "colab_type": "text"
      },
      "source": [
        "<a href=\"https://colab.research.google.com/github/Mayank-004/Google-Trend-Analysis/blob/main/KNN_FINAL.ipynb\" target=\"_parent\"><img src=\"https://colab.research.google.com/assets/colab-badge.svg\" alt=\"Open In Colab\"/></a>"
      ]
    },
    {
      "cell_type": "code",
      "metadata": {
        "id": "RdR-UZojZU59"
      },
      "source": [
        "\n",
        "\n",
        "import pandas as pd\n",
        "import numpy as np\n",
        "import matplotlib.pyplot as plt\n",
        "import datetime\n",
        "from sklearn.model_selection import train_test_split\n",
        "from patsy import dmatrices\n",
        "from sklearn.neighbors import KNeighborsRegressor\n",
        "from sklearn.ensemble import RandomForestClassifier\n",
        "from sklearn.metrics import confusion_matrix, ConfusionMatrixDisplay, f1_score,accuracy_score\n",
        "import seaborn as sns\n",
        "import random\n",
        "import time\n",
        "random.seed(786)\n",
        "from sklearn.metrics import mean_squared_error\n"
      ],
      "execution_count": 22,
      "outputs": []
    },
    {
      "cell_type": "code",
      "metadata": {
        "id": "p6aekZnTwfn2"
      },
      "source": [
        "dataset= pd.read_csv('multiTimeline.csv',error_bad_lines= False, sep=',')\n"
      ],
      "execution_count": 23,
      "outputs": []
    },
    {
      "cell_type": "code",
      "metadata": {
        "id": "nfu1Y1NGboJw"
      },
      "source": [
        "dataset.drop(columns=['Time'], inplace= True)\n",
        "dataset.rename(columns={\"coffee: (United States)\": \"x_t0\"},inplace=True)\n",
        "\n",
        "\n",
        "dataset_new1= dataset.copy(deep=True)\n",
        "dataset_new1.rename(columns={\"x_t0\": \"x_t\"},inplace=True)\n",
        "dataset_new1.drop(dataset_new1.head(1).index, inplace= True)\n",
        "dataset_new1=dataset_new1.reset_index()\n",
        "\n",
        "\n",
        "dataset_new2= dataset.copy()\n",
        "dataset_new2.rename(columns={\"x_t0\": \"x_t+1\"},inplace=True)\n",
        "dataset_new2.drop(dataset_new2.head(2).index, inplace= True)\n",
        "dataset_new2.reset_index(inplace=True)"
      ],
      "execution_count": 24,
      "outputs": []
    },
    {
      "cell_type": "code",
      "metadata": {
        "id": "buwh5qHTb4SE"
      },
      "source": [
        "#dataset.drop(dataset.tail.Index(2),inplace=True)\n",
        "dataset.drop(dataset.tail(2).index,inplace=True) # drop last n rows\n",
        "dataset_new1.drop(dataset_new1.tail(1).index,inplace=True) # drop last n rows\n"
      ],
      "execution_count": 25,
      "outputs": []
    },
    {
      "cell_type": "code",
      "metadata": {
        "id": "6FC7tP9RcAkC"
      },
      "source": [
        "dataset_new3=pd.DataFrame(columns=['x_t0','x_t','x_t2'])\n",
        "\n",
        "dataset_new3['x_t0']=dataset['x_t0']\n",
        "dataset_new3['x_t']= dataset_new1['x_t']\n",
        "dataset_new3['x_t2']=dataset_new2['x_t+1']"
      ],
      "execution_count": 26,
      "outputs": []
    },
    {
      "cell_type": "code",
      "metadata": {
        "id": "lpig3vUFwg8H"
      },
      "source": [
        "dataset=dataset_new3"
      ],
      "execution_count": 27,
      "outputs": []
    },
    {
      "cell_type": "code",
      "metadata": {
        "id": "L0236FFAkV_F",
        "outputId": "48ca731e-7030-4ec8-ee91-2c50ab0bccf5",
        "colab": {
          "base_uri": "https://localhost:8080/",
          "height": 419
        }
      },
      "source": [
        "dataset"
      ],
      "execution_count": 28,
      "outputs": [
        {
          "output_type": "execute_result",
          "data": {
            "text/html": [
              "<div>\n",
              "<style scoped>\n",
              "    .dataframe tbody tr th:only-of-type {\n",
              "        vertical-align: middle;\n",
              "    }\n",
              "\n",
              "    .dataframe tbody tr th {\n",
              "        vertical-align: top;\n",
              "    }\n",
              "\n",
              "    .dataframe thead th {\n",
              "        text-align: right;\n",
              "    }\n",
              "</style>\n",
              "<table border=\"1\" class=\"dataframe\">\n",
              "  <thead>\n",
              "    <tr style=\"text-align: right;\">\n",
              "      <th></th>\n",
              "      <th>x_t0</th>\n",
              "      <th>x_t</th>\n",
              "      <th>x_t2</th>\n",
              "    </tr>\n",
              "  </thead>\n",
              "  <tbody>\n",
              "    <tr>\n",
              "      <th>0</th>\n",
              "      <td>38</td>\n",
              "      <td>36</td>\n",
              "      <td>29</td>\n",
              "    </tr>\n",
              "    <tr>\n",
              "      <th>1</th>\n",
              "      <td>36</td>\n",
              "      <td>29</td>\n",
              "      <td>30</td>\n",
              "    </tr>\n",
              "    <tr>\n",
              "      <th>2</th>\n",
              "      <td>29</td>\n",
              "      <td>30</td>\n",
              "      <td>29</td>\n",
              "    </tr>\n",
              "    <tr>\n",
              "      <th>3</th>\n",
              "      <td>30</td>\n",
              "      <td>29</td>\n",
              "      <td>34</td>\n",
              "    </tr>\n",
              "    <tr>\n",
              "      <th>4</th>\n",
              "      <td>29</td>\n",
              "      <td>34</td>\n",
              "      <td>52</td>\n",
              "    </tr>\n",
              "    <tr>\n",
              "      <th>...</th>\n",
              "      <td>...</td>\n",
              "      <td>...</td>\n",
              "      <td>...</td>\n",
              "    </tr>\n",
              "    <tr>\n",
              "      <th>161</th>\n",
              "      <td>52</td>\n",
              "      <td>48</td>\n",
              "      <td>48</td>\n",
              "    </tr>\n",
              "    <tr>\n",
              "      <th>162</th>\n",
              "      <td>48</td>\n",
              "      <td>48</td>\n",
              "      <td>45</td>\n",
              "    </tr>\n",
              "    <tr>\n",
              "      <th>163</th>\n",
              "      <td>48</td>\n",
              "      <td>45</td>\n",
              "      <td>44</td>\n",
              "    </tr>\n",
              "    <tr>\n",
              "      <th>164</th>\n",
              "      <td>45</td>\n",
              "      <td>44</td>\n",
              "      <td>42</td>\n",
              "    </tr>\n",
              "    <tr>\n",
              "      <th>165</th>\n",
              "      <td>44</td>\n",
              "      <td>42</td>\n",
              "      <td>32</td>\n",
              "    </tr>\n",
              "  </tbody>\n",
              "</table>\n",
              "<p>166 rows × 3 columns</p>\n",
              "</div>"
            ],
            "text/plain": [
              "     x_t0  x_t  x_t2\n",
              "0      38   36    29\n",
              "1      36   29    30\n",
              "2      29   30    29\n",
              "3      30   29    34\n",
              "4      29   34    52\n",
              "..    ...  ...   ...\n",
              "161    52   48    48\n",
              "162    48   48    45\n",
              "163    48   45    44\n",
              "164    45   44    42\n",
              "165    44   42    32\n",
              "\n",
              "[166 rows x 3 columns]"
            ]
          },
          "metadata": {
            "tags": []
          },
          "execution_count": 28
        }
      ]
    },
    {
      "cell_type": "code",
      "metadata": {
        "colab": {
          "base_uri": "https://localhost:8080/"
        },
        "id": "fbwhc9mHfpc1",
        "outputId": "b4985ddb-bb0f-4b9b-e0d6-eb7bc4e973ea"
      },
      "source": [
        "type(dataset)"
      ],
      "execution_count": 29,
      "outputs": [
        {
          "output_type": "execute_result",
          "data": {
            "text/plain": [
              "pandas.core.frame.DataFrame"
            ]
          },
          "metadata": {
            "tags": []
          },
          "execution_count": 29
        }
      ]
    },
    {
      "cell_type": "markdown",
      "metadata": {
        "id": "lcuustcEoMP7"
      },
      "source": [
        "### Data Visualization"
      ]
    },
    {
      "cell_type": "code",
      "metadata": {
        "colab": {
          "base_uri": "https://localhost:8080/"
        },
        "id": "-0kItbLMyirF",
        "outputId": "c6f937dc-d405-41ed-a904-c5355b0b57a1"
      },
      "source": [
        "dataset.dtypes"
      ],
      "execution_count": 30,
      "outputs": [
        {
          "output_type": "execute_result",
          "data": {
            "text/plain": [
              "x_t0    int64\n",
              "x_t     int64\n",
              "x_t2    int64\n",
              "dtype: object"
            ]
          },
          "metadata": {
            "tags": []
          },
          "execution_count": 30
        }
      ]
    },
    {
      "cell_type": "code",
      "metadata": {
        "colab": {
          "base_uri": "https://localhost:8080/",
          "height": 49
        },
        "id": "ZUHurKi186xa",
        "outputId": "02ec9f60-448f-4b20-8e73-628fb8f75689"
      },
      "source": [
        "#Count Missing Data\n",
        "missing = dataset.isna().sum().sort_values(ascending = False)\n",
        "percent_missing = ((missing / dataset.isnull().count()) * 100).sort_values(ascending = False)\n",
        "missing_df = pd.concat([missing,percent_missing], axis = 1, keys = ['Total', 'Percent'],sort = False)\n",
        "missing_df[missing_df['Total'] >= 1]"
      ],
      "execution_count": 31,
      "outputs": [
        {
          "output_type": "execute_result",
          "data": {
            "text/html": [
              "<div>\n",
              "<style scoped>\n",
              "    .dataframe tbody tr th:only-of-type {\n",
              "        vertical-align: middle;\n",
              "    }\n",
              "\n",
              "    .dataframe tbody tr th {\n",
              "        vertical-align: top;\n",
              "    }\n",
              "\n",
              "    .dataframe thead th {\n",
              "        text-align: right;\n",
              "    }\n",
              "</style>\n",
              "<table border=\"1\" class=\"dataframe\">\n",
              "  <thead>\n",
              "    <tr style=\"text-align: right;\">\n",
              "      <th></th>\n",
              "      <th>Total</th>\n",
              "      <th>Percent</th>\n",
              "    </tr>\n",
              "  </thead>\n",
              "  <tbody>\n",
              "  </tbody>\n",
              "</table>\n",
              "</div>"
            ],
            "text/plain": [
              "Empty DataFrame\n",
              "Columns: [Total, Percent]\n",
              "Index: []"
            ]
          },
          "metadata": {
            "tags": []
          },
          "execution_count": 31
        }
      ]
    },
    {
      "cell_type": "code",
      "metadata": {
        "colab": {
          "base_uri": "https://localhost:8080/",
          "height": 325
        },
        "id": "UzhrY60BBfG6",
        "outputId": "34fde251-b1f3-450a-bde9-bec8431d550c"
      },
      "source": [
        "df1=dataset.copy(deep=True)\n",
        "\n",
        "# Filtering all Categorical variables\n",
        "vars_categorical = list(df1.select_dtypes(['object']).columns)\n",
        "\n",
        "for x in vars_categorical:\n",
        "    df1.loc[:,x] = df1.loc[:,x].astype(float)\n",
        "\n",
        "\n",
        "corrMatrix= df1.corr()\n",
        "\n",
        "fig, ax = plt.subplots(figsize=(5,5))         # Sample figsize in inches\n",
        "\n",
        "sns.heatmap(corrMatrix, annot=True,linewidth=0.8)\n",
        "plt.show()"
      ],
      "execution_count": 32,
      "outputs": [
        {
          "output_type": "display_data",
          "data": {
            "image/png": "[encoded data removed]",
            "text/plain": [
              "<Figure size 360x360 with 2 Axes>"
            ]
          },
          "metadata": {
            "tags": [],
            "needs_background": "light"
          }
        }
      ]
    },
    {
      "cell_type": "code",
      "metadata": {
        "id": "BmLMQiA6zl08"
      },
      "source": [
        "X = dataset.iloc[:,0:-1]\n",
        "y = dataset.iloc[:,-1]"
      ],
      "execution_count": 33,
      "outputs": []
    },
    {
      "cell_type": "code",
      "metadata": {
        "colab": {
          "base_uri": "https://localhost:8080/",
          "height": 419
        },
        "id": "pQCGC8CZjuR1",
        "outputId": "e7a1290f-f77b-45ee-b28e-151f3ac227e9"
      },
      "source": [
        "X"
      ],
      "execution_count": 34,
      "outputs": [
        {
          "output_type": "execute_result",
          "data": {
            "text/html": [
              "<div>\n",
              "<style scoped>\n",
              "    .dataframe tbody tr th:only-of-type {\n",
              "        vertical-align: middle;\n",
              "    }\n",
              "\n",
              "    .dataframe tbody tr th {\n",
              "        vertical-align: top;\n",
              "    }\n",
              "\n",
              "    .dataframe thead th {\n",
              "        text-align: right;\n",
              "    }\n",
              "</style>\n",
              "<table border=\"1\" class=\"dataframe\">\n",
              "  <thead>\n",
              "    <tr style=\"text-align: right;\">\n",
              "      <th></th>\n",
              "      <th>x_t0</th>\n",
              "      <th>x_t</th>\n",
              "    </tr>\n",
              "  </thead>\n",
              "  <tbody>\n",
              "    <tr>\n",
              "      <th>0</th>\n",
              "      <td>38</td>\n",
              "      <td>36</td>\n",
              "    </tr>\n",
              "    <tr>\n",
              "      <th>1</th>\n",
              "      <td>36</td>\n",
              "      <td>29</td>\n",
              "    </tr>\n",
              "    <tr>\n",
              "      <th>2</th>\n",
              "      <td>29</td>\n",
              "      <td>30</td>\n",
              "    </tr>\n",
              "    <tr>\n",
              "      <th>3</th>\n",
              "      <td>30</td>\n",
              "      <td>29</td>\n",
              "    </tr>\n",
              "    <tr>\n",
              "      <th>4</th>\n",
              "      <td>29</td>\n",
              "      <td>34</td>\n",
              "    </tr>\n",
              "    <tr>\n",
              "      <th>...</th>\n",
              "      <td>...</td>\n",
              "      <td>...</td>\n",
              "    </tr>\n",
              "    <tr>\n",
              "      <th>161</th>\n",
              "      <td>52</td>\n",
              "      <td>48</td>\n",
              "    </tr>\n",
              "    <tr>\n",
              "      <th>162</th>\n",
              "      <td>48</td>\n",
              "      <td>48</td>\n",
              "    </tr>\n",
              "    <tr>\n",
              "      <th>163</th>\n",
              "      <td>48</td>\n",
              "      <td>45</td>\n",
              "    </tr>\n",
              "    <tr>\n",
              "      <th>164</th>\n",
              "      <td>45</td>\n",
              "      <td>44</td>\n",
              "    </tr>\n",
              "    <tr>\n",
              "      <th>165</th>\n",
              "      <td>44</td>\n",
              "      <td>42</td>\n",
              "    </tr>\n",
              "  </tbody>\n",
              "</table>\n",
              "<p>166 rows × 2 columns</p>\n",
              "</div>"
            ],
            "text/plain": [
              "     x_t0  x_t\n",
              "0      38   36\n",
              "1      36   29\n",
              "2      29   30\n",
              "3      30   29\n",
              "4      29   34\n",
              "..    ...  ...\n",
              "161    52   48\n",
              "162    48   48\n",
              "163    48   45\n",
              "164    45   44\n",
              "165    44   42\n",
              "\n",
              "[166 rows x 2 columns]"
            ]
          },
          "metadata": {
            "tags": []
          },
          "execution_count": 34
        }
      ]
    },
    {
      "cell_type": "code",
      "metadata": {
        "id": "ExxaMA6xxOtO"
      },
      "source": [
        "X_train = X.head(X.shape[0] -1)\n",
        "y_train=y.head(y.shape[0]-1)\n",
        "X_test= X.tail(1)\n",
        "y_test=y.tail(1)"
      ],
      "execution_count": 35,
      "outputs": []
    },
    {
      "cell_type": "code",
      "metadata": {
        "id": "Tn_JF5zrzyYj"
      },
      "source": [
        "y_train=y_train.to_numpy()\n",
        "\n",
        "y_test=y_test.to_numpy()"
      ],
      "execution_count": 36,
      "outputs": []
    },
    {
      "cell_type": "code",
      "metadata": {
        "colab": {
          "base_uri": "https://localhost:8080/",
          "height": 419
        },
        "id": "6yLpfHd2d11d",
        "outputId": "c2ef3c39-5001-4245-814f-ee7ff9366708"
      },
      "source": [
        "X_train"
      ],
      "execution_count": 37,
      "outputs": [
        {
          "output_type": "execute_result",
          "data": {
            "text/html": [
              "<div>\n",
              "<style scoped>\n",
              "    .dataframe tbody tr th:only-of-type {\n",
              "        vertical-align: middle;\n",
              "    }\n",
              "\n",
              "    .dataframe tbody tr th {\n",
              "        vertical-align: top;\n",
              "    }\n",
              "\n",
              "    .dataframe thead th {\n",
              "        text-align: right;\n",
              "    }\n",
              "</style>\n",
              "<table border=\"1\" class=\"dataframe\">\n",
              "  <thead>\n",
              "    <tr style=\"text-align: right;\">\n",
              "      <th></th>\n",
              "      <th>x_t0</th>\n",
              "      <th>x_t</th>\n",
              "    </tr>\n",
              "  </thead>\n",
              "  <tbody>\n",
              "    <tr>\n",
              "      <th>0</th>\n",
              "      <td>38</td>\n",
              "      <td>36</td>\n",
              "    </tr>\n",
              "    <tr>\n",
              "      <th>1</th>\n",
              "      <td>36</td>\n",
              "      <td>29</td>\n",
              "    </tr>\n",
              "    <tr>\n",
              "      <th>2</th>\n",
              "      <td>29</td>\n",
              "      <td>30</td>\n",
              "    </tr>\n",
              "    <tr>\n",
              "      <th>3</th>\n",
              "      <td>30</td>\n",
              "      <td>29</td>\n",
              "    </tr>\n",
              "    <tr>\n",
              "      <th>4</th>\n",
              "      <td>29</td>\n",
              "      <td>34</td>\n",
              "    </tr>\n",
              "    <tr>\n",
              "      <th>...</th>\n",
              "      <td>...</td>\n",
              "      <td>...</td>\n",
              "    </tr>\n",
              "    <tr>\n",
              "      <th>160</th>\n",
              "      <td>58</td>\n",
              "      <td>52</td>\n",
              "    </tr>\n",
              "    <tr>\n",
              "      <th>161</th>\n",
              "      <td>52</td>\n",
              "      <td>48</td>\n",
              "    </tr>\n",
              "    <tr>\n",
              "      <th>162</th>\n",
              "      <td>48</td>\n",
              "      <td>48</td>\n",
              "    </tr>\n",
              "    <tr>\n",
              "      <th>163</th>\n",
              "      <td>48</td>\n",
              "      <td>45</td>\n",
              "    </tr>\n",
              "    <tr>\n",
              "      <th>164</th>\n",
              "      <td>45</td>\n",
              "      <td>44</td>\n",
              "    </tr>\n",
              "  </tbody>\n",
              "</table>\n",
              "<p>165 rows × 2 columns</p>\n",
              "</div>"
            ],
            "text/plain": [
              "     x_t0  x_t\n",
              "0      38   36\n",
              "1      36   29\n",
              "2      29   30\n",
              "3      30   29\n",
              "4      29   34\n",
              "..    ...  ...\n",
              "160    58   52\n",
              "161    52   48\n",
              "162    48   48\n",
              "163    48   45\n",
              "164    45   44\n",
              "\n",
              "[165 rows x 2 columns]"
            ]
          },
          "metadata": {
            "tags": []
          },
          "execution_count": 37
        }
      ]
    },
    {
      "cell_type": "code",
      "metadata": {
        "colab": {
          "base_uri": "https://localhost:8080/"
        },
        "id": "IjbaxtDUd5kf",
        "outputId": "32407bb9-7a42-4862-9830-0980f88130ad"
      },
      "source": [
        "y_train"
      ],
      "execution_count": 38,
      "outputs": [
        {
          "output_type": "execute_result",
          "data": {
            "text/plain": [
              "array([ 29,  30,  29,  34,  52,  61,  59,  57,  54,  52,  50,  47,  45,\n",
              "        43,  41,  42,  41,  42,  42,  43,  42,  41,  39,  34,  31,  29,\n",
              "        28,  32,  52,  63,  63,  61,  55,  53,  48,  46,  45,  44,  41,\n",
              "        42,  40,  40,  40,  40,  39,  39,  37,  33,  28,  26,  29,  32,\n",
              "        49,  61,  64,  59,  59,  54,  49,  48,  44,  41,  40,  39,  40,\n",
              "        39,  38,  39,  41,  39,  39,  36,  28,  32,  30,  34,  50,  64,\n",
              "        62,  60,  57,  53,  49,  45,  44,  42,  41,  40,  39,  39,  39,\n",
              "        40,  38,  38,  34,  32,  27,  28,  29,  32,  50,  67,  68,  66,\n",
              "        62,  58,  53,  49,  48,  44,  45,  43,  41,  42,  41,  42,  41,\n",
              "        40,  37,  35,  28,  30,  31,  36,  63,  82,  96,  98,  91,  84,\n",
              "        81,  67,  61,  58,  53,  52,  49,  47,  45,  45,  43,  39,  37,\n",
              "        32,  26,  24,  27,  29,  44,  84,  95, 100,  97,  90,  78,  69,\n",
              "        70,  59,  58,  52,  48,  48,  45,  44,  42])"
            ]
          },
          "metadata": {
            "tags": []
          },
          "execution_count": 38
        }
      ]
    },
    {
      "cell_type": "code",
      "metadata": {
        "colab": {
          "base_uri": "https://localhost:8080/"
        },
        "id": "TC8VdrsveLKf",
        "outputId": "1eef802f-e6d0-4366-bac2-e539911143e3"
      },
      "source": [
        "type(y_test)"
      ],
      "execution_count": 39,
      "outputs": [
        {
          "output_type": "execute_result",
          "data": {
            "text/plain": [
              "numpy.ndarray"
            ]
          },
          "metadata": {
            "tags": []
          },
          "execution_count": 39
        }
      ]
    },
    {
      "cell_type": "code",
      "metadata": {
        "colab": {
          "base_uri": "https://localhost:8080/"
        },
        "id": "dNU0Q1SaeOu6",
        "outputId": "41e33450-1934-4414-a530-c8d9b5653696"
      },
      "source": [
        "type(X_test)"
      ],
      "execution_count": 40,
      "outputs": [
        {
          "output_type": "execute_result",
          "data": {
            "text/plain": [
              "pandas.core.frame.DataFrame"
            ]
          },
          "metadata": {
            "tags": []
          },
          "execution_count": 40
        }
      ]
    },
    {
      "cell_type": "code",
      "metadata": {
        "id": "Y21u9DgFDP1B"
      },
      "source": [
        "\n",
        "## defining a reusable function to evaluate model performance\n",
        "\n",
        "def eval_result(model_name,y_train,y_predtrain,y_test,y_predtest,n_neighbors):\n",
        "\n",
        "    rmse_train = mean_squared_error(y_train, y_predtrain, squared=False)\n",
        "    print( f\"RMSE Train error for k= {n_neighbors} is {rmse_train}\")\n",
        "    rmse_test = mean_squared_error(y_test, y_predtest, squared=False)\n",
        "    print( f\"RMSE Test error for k= {n_neighbors} is {rmse_test}\")\n",
        "\n",
        "  "
      ],
      "execution_count": 41,
      "outputs": []
    },
    {
      "cell_type": "code",
      "metadata": {
        "id": "gaj-EDJQkgaV"
      },
      "source": [
        "# reusable function to calculate run time for model training\n",
        "\n",
        "def run_model(model):\n",
        "    t0=time.time()\n",
        "    model.fit(X_train,y_train)\n",
        "    time_taken= time.time()- t0\n",
        "    print(f'Time taken: {time_taken}')"
      ],
      "execution_count": 42,
      "outputs": []
    },
    {
      "cell_type": "markdown",
      "metadata": {
        "id": "dVwS2HzrZU6A"
      },
      "source": [
        "# kNN Model"
      ]
    },
    {
      "cell_type": "code",
      "metadata": {
        "scrolled": false,
        "colab": {
          "base_uri": "https://localhost:8080/"
        },
        "id": "iBnwNNhDZU6A",
        "outputId": "89beef2c-fe49-4851-eebf-fbc1a8fdd23b"
      },
      "source": [
        "# p = 2 is equivalent to using the euclidean distance\n",
        "# weights = 'distance' means closer points are weighted more heavily than further away points\n",
        "# weights = 'Uniform' means every point is given equal weight.\n",
        "n_neighbors = 3\n",
        "model1 = KNeighborsRegressor(n_neighbors=n_neighbors,weights='distance',algorithm='auto',p=2)\n",
        "#run_model(model1)\n",
        "model1.fit(X_train,y_train)\n",
        "\n",
        "y_hat_train = model1.predict(X_train)\n",
        "y_hat_test = model1.predict(X_test)\n",
        "#y_hat_test=pd.DataFrame(y_hat_test)\n",
        "eval_result(model1,y_train,y_hat_train,y_test,y_hat_test,n_neighbors)\n"
      ],
      "execution_count": 43,
      "outputs": [
        {
          "output_type": "stream",
          "text": [
            "RMSE Train error for k= 3 is 1.3684762594679065\n",
            "RMSE Test error for k= 3 is 9.0\n"
          ],
          "name": "stdout"
        }
      ]
    },
    {
      "cell_type": "code",
      "metadata": {
        "colab": {
          "base_uri": "https://localhost:8080/"
        },
        "id": "bjidEcUEonWH",
        "outputId": "45564277-cfcd-4583-9330-83bc55584665"
      },
      "source": [
        "mean_squared_error(y_test, y_hat_test, squared=False)"
      ],
      "execution_count": 44,
      "outputs": [
        {
          "output_type": "execute_result",
          "data": {
            "text/plain": [
              "9.0"
            ]
          },
          "metadata": {
            "tags": []
          },
          "execution_count": 44
        }
      ]
    },
    {
      "cell_type": "code",
      "metadata": {
        "colab": {
          "base_uri": "https://localhost:8080/"
        },
        "id": "PE_AoAezdtLg",
        "outputId": "6f041b04-f1ee-4fbe-b4c4-1d928a34a94a"
      },
      "source": [
        "type(y_hat_test)"
      ],
      "execution_count": 45,
      "outputs": [
        {
          "output_type": "execute_result",
          "data": {
            "text/plain": [
              "numpy.ndarray"
            ]
          },
          "metadata": {
            "tags": []
          },
          "execution_count": 45
        }
      ]
    },
    {
      "cell_type": "code",
      "metadata": {
        "colab": {
          "base_uri": "https://localhost:8080/"
        },
        "id": "cCuqWi6p-yhF",
        "outputId": "5c1c7fb4-6b4f-449b-fae1-ad0f31c90baa"
      },
      "source": [
        "# p = 2 is equivalent to using the euclidean distance\n",
        "\n",
        "for n_neighbors in range(1,10):\n",
        "  model1 = KNeighborsRegressor(n_neighbors=n_neighbors,weights='distance',algorithm='auto',p=2)\n",
        "  #run_model(model1)\n",
        "  model1.fit(X_train,y_train)\n",
        "\n",
        "  y_hat_train = model1.predict(X_train)\n",
        "  y_hat_test = model1.predict(X_test)\n",
        "  print(f'Prediction for K= {n_neighbors} is {y_hat_test}')\n",
        "  print(f'Actual for K= {n_neighbors} is {y_test}')\n",
        "  y_hat_test=pd.DataFrame(y_hat_test)\n",
        "\n",
        "  eval_result(model1,y_train,y_hat_train,y_test,y_hat_test,n_neighbors)"
      ],
      "execution_count": 47,
      "outputs": [
        {
          "output_type": "stream",
          "text": [
            "Prediction for K= 1 is [41.]\n",
            "Actual for K= 1 is [32]\n",
            "RMSE Train error for k= 1 is 1.9053354114966294\n",
            "RMSE Test error for k= 1 is 9.0\n",
            "Prediction for K= 2 is [41.]\n",
            "Actual for K= 2 is [32]\n",
            "RMSE Train error for k= 2 is 1.387716677048156\n",
            "RMSE Test error for k= 2 is 9.0\n",
            "Prediction for K= 3 is [41.]\n",
            "Actual for K= 3 is [32]\n",
            "RMSE Train error for k= 3 is 1.3684762594679065\n",
            "RMSE Test error for k= 3 is 9.0\n",
            "Prediction for K= 4 is [41.]\n",
            "Actual for K= 4 is [32]\n",
            "RMSE Train error for k= 4 is 1.3617706091406114\n",
            "RMSE Test error for k= 4 is 9.0\n",
            "Prediction for K= 5 is [41.]\n",
            "Actual for K= 5 is [32]\n",
            "RMSE Train error for k= 5 is 1.3592927453925323\n",
            "RMSE Test error for k= 5 is 9.0\n",
            "Prediction for K= 6 is [41.]\n",
            "Actual for K= 6 is [32]\n",
            "RMSE Train error for k= 6 is 1.3592927453925323\n",
            "RMSE Test error for k= 6 is 9.0\n",
            "Prediction for K= 7 is [41.]\n",
            "Actual for K= 7 is [32]\n",
            "RMSE Train error for k= 7 is 1.3592927453925323\n",
            "RMSE Test error for k= 7 is 9.0\n",
            "Prediction for K= 8 is [41.]\n",
            "Actual for K= 8 is [32]\n",
            "RMSE Train error for k= 8 is 1.3592927453925323\n",
            "RMSE Test error for k= 8 is 9.0\n",
            "Prediction for K= 9 is [41.]\n",
            "Actual for K= 9 is [32]\n",
            "RMSE Train error for k= 9 is 1.3592927453925323\n",
            "RMSE Test error for k= 9 is 9.0\n"
          ],
          "name": "stdout"
        }
      ]
    },
    {
      "cell_type": "code",
      "metadata": {
        "id": "zBMmi8QqtqKX",
        "outputId": "923938d9-f983-4cf7-c0d2-6a1d0d38338e",
        "colab": {
          "base_uri": "https://localhost:8080/"
        }
      },
      "source": [
        "# p = 2 is equivalent to using the euclidean distance\n",
        "\n",
        "for n_neighbors in range(1,10):\n",
        "  model1 = KNeighborsRegressor(n_neighbors=n_neighbors,weights='uniform',algorithm='auto',p=2)\n",
        "  #run_model(model1)\n",
        "  model1.fit(X_train,y_train)\n",
        "\n",
        "  y_hat_train = model1.predict(X_train)\n",
        "  y_hat_test = model1.predict(X_test)\n",
        "  print(f'Prediction for K= {n_neighbors} is {y_hat_test}')\n",
        "  print(f'Actual for K= {n_neighbors} is {y_test}')\n",
        "  y_hat_test=pd.DataFrame(y_hat_test)\n",
        "\n",
        "  eval_result(model1,y_train,y_hat_train,y_test,y_hat_test,n_neighbors)"
      ],
      "execution_count": 51,
      "outputs": [
        {
          "output_type": "stream",
          "text": [
            "Prediction for K= 1 is [41.]\n",
            "Actual for K= 1 is [32]\n",
            "RMSE Train error for k= 1 is 1.9053354114966294\n",
            "RMSE Test error for k= 1 is 9.0\n",
            "Prediction for K= 2 is [41.]\n",
            "Actual for K= 2 is [32]\n",
            "RMSE Train error for k= 2 is 3.141125063837266\n",
            "RMSE Test error for k= 2 is 9.0\n",
            "Prediction for K= 3 is [40.66666667]\n",
            "Actual for K= 3 is [32]\n",
            "RMSE Train error for k= 3 is 3.4685697961806143\n",
            "RMSE Test error for k= 3 is 8.666666666666664\n",
            "Prediction for K= 4 is [41.]\n",
            "Actual for K= 4 is [32]\n",
            "RMSE Train error for k= 4 is 3.8985719996382824\n",
            "RMSE Test error for k= 4 is 9.0\n",
            "Prediction for K= 5 is [41.2]\n",
            "Actual for K= 5 is [32]\n",
            "RMSE Train error for k= 5 is 4.299147202256125\n",
            "RMSE Test error for k= 5 is 9.200000000000003\n",
            "Prediction for K= 6 is [41.33333333]\n",
            "Actual for K= 6 is [32]\n",
            "RMSE Train error for k= 6 is 4.442467994878736\n",
            "RMSE Test error for k= 6 is 9.333333333333336\n",
            "Prediction for K= 7 is [41.28571429]\n",
            "Actual for K= 7 is [32]\n",
            "RMSE Train error for k= 7 is 4.575174331191282\n",
            "RMSE Test error for k= 7 is 9.285714285714285\n",
            "Prediction for K= 8 is [41.25]\n",
            "Actual for K= 8 is [32]\n",
            "RMSE Train error for k= 8 is 4.858129316367099\n",
            "RMSE Test error for k= 8 is 9.25\n",
            "Prediction for K= 9 is [41.]\n",
            "Actual for K= 9 is [32]\n",
            "RMSE Train error for k= 9 is 5.081358284966926\n",
            "RMSE Test error for k= 9 is 9.0\n"
          ],
          "name": "stdout"
        }
      ]
    },
    {
      "cell_type": "code",
      "metadata": {
        "id": "XfVODuz8t6yf",
        "outputId": "52b0785f-8a8a-4a14-a68e-731e56d24b9e",
        "colab": {
          "base_uri": "https://localhost:8080/"
        }
      },
      "source": [
        "# p = 1 is equivalent to using the manhattan distance\n",
        "\n",
        "for n_neighbors in range(1,10):\n",
        "  model1 = KNeighborsRegressor(n_neighbors=n_neighbors,weights='distance',algorithm='auto',p=1)\n",
        "  run_model(model1)\n",
        "  y_hat_train = model1.predict(X_train)\n",
        "  y_hat_test = model1.predict(X_test)\n",
        "  print(f'Prediction for K= {n_neighbors} is {y_hat_test}')\n",
        "  print(f'Actual for K= {n_neighbors} is {y_test}')\n",
        "  y_hat_test=pd.DataFrame(y_hat_test)\n",
        "\n",
        "  eval_result(model1,y_train,y_hat_train,y_test,y_hat_test,n_neighbors)"
      ],
      "execution_count": 52,
      "outputs": [
        {
          "output_type": "stream",
          "text": [
            "Time taken: 0.0031130313873291016\n",
            "Prediction for K= 1 is [41.]\n",
            "Actual for K= 1 is [32]\n",
            "RMSE Train error for k= 1 is 1.9053354114966294\n",
            "RMSE Test error for k= 1 is 9.0\n",
            "Time taken: 0.0007624626159667969\n",
            "Prediction for K= 2 is [41.]\n",
            "Actual for K= 2 is [32]\n",
            "RMSE Train error for k= 2 is 1.387716677048156\n",
            "RMSE Test error for k= 2 is 9.0\n",
            "Time taken: 0.0007174015045166016\n",
            "Prediction for K= 3 is [41.]\n",
            "Actual for K= 3 is [32]\n",
            "RMSE Train error for k= 3 is 1.3684762594679065\n",
            "RMSE Test error for k= 3 is 9.0\n",
            "Time taken: 0.0007224082946777344\n",
            "Prediction for K= 4 is [41.]\n",
            "Actual for K= 4 is [32]\n",
            "RMSE Train error for k= 4 is 1.3617706091406114\n",
            "RMSE Test error for k= 4 is 9.0\n",
            "Time taken: 0.0007581710815429688\n",
            "Prediction for K= 5 is [41.]\n",
            "Actual for K= 5 is [32]\n",
            "RMSE Train error for k= 5 is 1.3592927453925323\n",
            "RMSE Test error for k= 5 is 9.0\n",
            "Time taken: 0.0007288455963134766\n",
            "Prediction for K= 6 is [41.]\n",
            "Actual for K= 6 is [32]\n",
            "RMSE Train error for k= 6 is 1.3592927453925323\n",
            "RMSE Test error for k= 6 is 9.0\n",
            "Time taken: 0.0006949901580810547\n",
            "Prediction for K= 7 is [41.]\n",
            "Actual for K= 7 is [32]\n",
            "RMSE Train error for k= 7 is 1.3592927453925323\n",
            "RMSE Test error for k= 7 is 9.0\n",
            "Time taken: 0.0006852149963378906\n",
            "Prediction for K= 8 is [41.]\n",
            "Actual for K= 8 is [32]\n",
            "RMSE Train error for k= 8 is 1.3592927453925323\n",
            "RMSE Test error for k= 8 is 9.0\n",
            "Time taken: 0.0006823539733886719\n",
            "Prediction for K= 9 is [41.]\n",
            "Actual for K= 9 is [32]\n",
            "RMSE Train error for k= 9 is 1.3592927453925323\n",
            "RMSE Test error for k= 9 is 9.0\n"
          ],
          "name": "stdout"
        }
      ]
    },
    {
      "cell_type": "code",
      "metadata": {
        "colab": {
          "base_uri": "https://localhost:8080/"
        },
        "id": "8vJDSQNSEA3p",
        "outputId": "13d24638-ca30-45b2-a38d-9031e0563165"
      },
      "source": [
        "# p = 1 is equivalent to using the manhattan distance\n",
        "\n",
        "for n_neighbors in range(1,10):\n",
        "  model1 = KNeighborsRegressor(n_neighbors=n_neighbors,weights='uniform',algorithm='auto',p=1)\n",
        "  run_model(model1)\n",
        "  y_hat_train = model1.predict(X_train)\n",
        "  y_hat_test = model1.predict(X_test)\n",
        "  print(f'Prediction for K= {n_neighbors} is {y_hat_test}')\n",
        "  print(f'Actual for K= {n_neighbors} is {y_test}')\n",
        "  y_hat_test=pd.DataFrame(y_hat_test)\n",
        "\n",
        "  eval_result(model1,y_train,y_hat_train,y_test,y_hat_test,n_neighbors)"
      ],
      "execution_count": 48,
      "outputs": [
        {
          "output_type": "stream",
          "text": [
            "Time taken: 0.0011925697326660156\n",
            "Prediction for K= 1 is [41.]\n",
            "Actual for K= 1 is [32]\n",
            "RMSE Train error for k= 1 is 1.9053354114966294\n",
            "RMSE Test error for k= 1 is 9.0\n",
            "Time taken: 0.006585597991943359\n",
            "Prediction for K= 2 is [41.]\n",
            "Actual for K= 2 is [32]\n",
            "RMSE Train error for k= 2 is 2.8643577734887544\n",
            "RMSE Test error for k= 2 is 9.0\n",
            "Time taken: 0.0008065700531005859\n",
            "Prediction for K= 3 is [40.66666667]\n",
            "Actual for K= 3 is [32]\n",
            "RMSE Train error for k= 3 is 3.5993826631181562\n",
            "RMSE Test error for k= 3 is 8.666666666666664\n",
            "Time taken: 0.0007674694061279297\n",
            "Prediction for K= 4 is [41.]\n",
            "Actual for K= 4 is [32]\n",
            "RMSE Train error for k= 4 is 4.238442395431834\n",
            "RMSE Test error for k= 4 is 9.0\n",
            "Time taken: 0.0007805824279785156\n",
            "Prediction for K= 5 is [41.2]\n",
            "Actual for K= 5 is [32]\n",
            "RMSE Train error for k= 5 is 4.580565004186247\n",
            "RMSE Test error for k= 5 is 9.200000000000003\n",
            "Time taken: 0.0016727447509765625\n",
            "Prediction for K= 6 is [41.33333333]\n",
            "Actual for K= 6 is [32]\n",
            "RMSE Train error for k= 6 is 4.733397353386942\n",
            "RMSE Test error for k= 6 is 9.333333333333336\n",
            "Time taken: 0.001299142837524414\n",
            "Prediction for K= 7 is [41.28571429]\n",
            "Actual for K= 7 is [32]\n",
            "RMSE Train error for k= 7 is 4.889363463407446\n",
            "RMSE Test error for k= 7 is 9.285714285714285\n",
            "Time taken: 0.0011706352233886719\n",
            "Prediction for K= 8 is [41.25]\n",
            "Actual for K= 8 is [32]\n",
            "RMSE Train error for k= 8 is 5.089408937522444\n",
            "RMSE Test error for k= 8 is 9.25\n",
            "Time taken: 0.0010859966278076172\n",
            "Prediction for K= 9 is [41.]\n",
            "Actual for K= 9 is [32]\n",
            "RMSE Train error for k= 9 is 5.241314765531686\n",
            "RMSE Test error for k= 9 is 9.0\n"
          ],
          "name": "stdout"
        }
      ]
    },
    {
      "cell_type": "code",
      "metadata": {
        "id": "11PH0_BCt5EH",
        "outputId": "bcbb44e4-e21f-45c7-fb12-e190d0206485",
        "colab": {
          "base_uri": "https://localhost:8080/"
        }
      },
      "source": [
        "# p = 3 is equivalent to using the minkowski distance\n",
        "\n",
        "for n_neighbors in range(1,10):\n",
        "  model1 = KNeighborsRegressor(n_neighbors=n_neighbors,weights='distance',algorithm='auto',p=3)\n",
        "  run_model(model1)\n",
        "  y_hat_train = model1.predict(X_train)\n",
        "  y_hat_test = model1.predict(X_test)\n",
        "  print(f'Prediction for K= {n_neighbors} is {y_hat_test}')\n",
        "  print(f'Actual for K= {n_neighbors} is {y_test}')\n",
        "\n",
        "  eval_result(model1,y_train,y_hat_train,y_test,y_hat_test,n_neighbors)"
      ],
      "execution_count": 53,
      "outputs": [
        {
          "output_type": "stream",
          "text": [
            "Time taken: 0.004352569580078125\n",
            "Prediction for K= 1 is [41.]\n",
            "Actual for K= 1 is [32]\n",
            "RMSE Train error for k= 1 is 1.9053354114966294\n",
            "RMSE Test error for k= 1 is 9.0\n",
            "Time taken: 0.0022161006927490234\n",
            "Prediction for K= 2 is [41.]\n",
            "Actual for K= 2 is [32]\n",
            "RMSE Train error for k= 2 is 1.387716677048156\n",
            "RMSE Test error for k= 2 is 9.0\n",
            "Time taken: 0.0008840560913085938\n",
            "Prediction for K= 3 is [41.]\n",
            "Actual for K= 3 is [32]\n",
            "RMSE Train error for k= 3 is 1.3684762594679065\n",
            "RMSE Test error for k= 3 is 9.0\n",
            "Time taken: 0.0008571147918701172\n",
            "Prediction for K= 4 is [41.]\n",
            "Actual for K= 4 is [32]\n",
            "RMSE Train error for k= 4 is 1.3617706091406114\n",
            "RMSE Test error for k= 4 is 9.0\n",
            "Time taken: 0.0007977485656738281\n",
            "Prediction for K= 5 is [41.]\n",
            "Actual for K= 5 is [32]\n",
            "RMSE Train error for k= 5 is 1.3592927453925323\n",
            "RMSE Test error for k= 5 is 9.0\n",
            "Time taken: 0.0008428096771240234\n",
            "Prediction for K= 6 is [41.]\n",
            "Actual for K= 6 is [32]\n",
            "RMSE Train error for k= 6 is 1.3592927453925323\n",
            "RMSE Test error for k= 6 is 9.0\n",
            "Time taken: 0.0008337497711181641\n",
            "Prediction for K= 7 is [41.]\n",
            "Actual for K= 7 is [32]\n",
            "RMSE Train error for k= 7 is 1.3592927453925323\n",
            "RMSE Test error for k= 7 is 9.0\n",
            "Time taken: 0.0008215904235839844\n",
            "Prediction for K= 8 is [41.]\n",
            "Actual for K= 8 is [32]\n",
            "RMSE Train error for k= 8 is 1.3592927453925323\n",
            "RMSE Test error for k= 8 is 9.0\n",
            "Time taken: 0.0008027553558349609\n",
            "Prediction for K= 9 is [41.]\n",
            "Actual for K= 9 is [32]\n",
            "RMSE Train error for k= 9 is 1.3592927453925323\n",
            "RMSE Test error for k= 9 is 9.0\n"
          ],
          "name": "stdout"
        }
      ]
    },
    {
      "cell_type": "code",
      "metadata": {
        "colab": {
          "base_uri": "https://localhost:8080/"
        },
        "id": "5IJ46cyIEIR3",
        "outputId": "de85220a-7f75-4676-e5a6-86e9995f1263"
      },
      "source": [
        "# p = 3 is equivalent to using the minkowski distance\n",
        "\n",
        "for n_neighbors in range(1,10):\n",
        "  model1 = KNeighborsRegressor(n_neighbors=n_neighbors,weights='uniform',algorithm='auto',p=3)\n",
        "  run_model(model1)\n",
        "  y_hat_train = model1.predict(X_train)\n",
        "  y_hat_test = model1.predict(X_test)\n",
        "  print(f'Prediction for K= {n_neighbors} is {y_hat_test}')\n",
        "  print(f'Actual for K= {n_neighbors} is {y_test}')\n",
        "\n",
        "  eval_result(model1,y_train,y_hat_train,y_test,y_hat_test,n_neighbors)"
      ],
      "execution_count": 49,
      "outputs": [
        {
          "output_type": "stream",
          "text": [
            "Time taken: 0.001528024673461914\n",
            "Prediction for K= 1 is [41.]\n",
            "Actual for K= 1 is [32]\n",
            "RMSE Train error for k= 1 is 1.9053354114966294\n",
            "RMSE Test error for k= 1 is 9.0\n",
            "Time taken: 0.0010914802551269531\n",
            "Prediction for K= 2 is [41.]\n",
            "Actual for K= 2 is [32]\n",
            "RMSE Train error for k= 2 is 3.141125063837266\n",
            "RMSE Test error for k= 2 is 9.0\n",
            "Time taken: 0.002039670944213867\n",
            "Prediction for K= 3 is [40.66666667]\n",
            "Actual for K= 3 is [32]\n",
            "RMSE Train error for k= 3 is 3.4685697961806143\n",
            "RMSE Test error for k= 3 is 8.666666666666664\n",
            "Time taken: 0.0008099079132080078\n",
            "Prediction for K= 4 is [41.]\n",
            "Actual for K= 4 is [32]\n",
            "RMSE Train error for k= 4 is 3.869999216975882\n",
            "RMSE Test error for k= 4 is 9.0\n",
            "Time taken: 0.0012993812561035156\n",
            "Prediction for K= 5 is [41.2]\n",
            "Actual for K= 5 is [32]\n",
            "RMSE Train error for k= 5 is 4.214549114961676\n",
            "RMSE Test error for k= 5 is 9.200000000000003\n",
            "Time taken: 0.0009510517120361328\n",
            "Prediction for K= 6 is [41.33333333]\n",
            "Actual for K= 6 is [32]\n",
            "RMSE Train error for k= 6 is 4.394326001800619\n",
            "RMSE Test error for k= 6 is 9.333333333333336\n",
            "Time taken: 0.0008747577667236328\n",
            "Prediction for K= 7 is [41.28571429]\n",
            "Actual for K= 7 is [32]\n",
            "RMSE Train error for k= 7 is 4.646954568920956\n",
            "RMSE Test error for k= 7 is 9.285714285714285\n",
            "Time taken: 0.0009720325469970703\n",
            "Prediction for K= 8 is [41.25]\n",
            "Actual for K= 8 is [32]\n",
            "RMSE Train error for k= 8 is 5.003010457351017\n",
            "RMSE Test error for k= 8 is 9.25\n",
            "Time taken: 0.002031087875366211\n",
            "Prediction for K= 9 is [41.]\n",
            "Actual for K= 9 is [32]\n",
            "RMSE Train error for k= 9 is 5.160796418990399\n",
            "RMSE Test error for k= 9 is 9.0\n"
          ],
          "name": "stdout"
        }
      ]
    }
  ]
}