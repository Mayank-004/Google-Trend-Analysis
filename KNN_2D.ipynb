{
  "nbformat": 4,
  "nbformat_minor": 0,
  "metadata": {
    "colab": {
      "name": "Untitled0.ipynb",
      "provenance": [],
      "toc_visible": true,
      "authorship_tag": "ABX9TyPyIIan7P1qQCT3vZ3OENyP",
      "include_colab_link": true
    },
    "kernelspec": {
      "name": "python3",
      "display_name": "Python 3"
    },
    "language_info": {
      "name": "python"
    }
  },
  "cells": [
    {
      "cell_type": "markdown",
      "metadata": {
        "id": "view-in-github",
        "colab_type": "text"
      },
      "source": [
        "<a href=\"https://colab.research.google.com/github/Mayank-004/Google-Trend-Analysis/blob/main/KNN_2D.ipynb\" target=\"_parent\"><img src=\"https://colab.research.google.com/assets/colab-badge.svg\" alt=\"Open In Colab\"/></a>"
      ]
    },
    {
      "cell_type": "markdown",
      "metadata": {
        "id": "xeI8GFFuok6L"
      },
      "source": [
        "### 2D KNN Prediction"
      ]
    },
    {
      "cell_type": "code",
      "metadata": {
        "id": "Tyn0EXKXoioe"
      },
      "source": [
        "import pandas as pd\n",
        "import numpy as np\n",
        "import matplotlib.pyplot as plt\n",
        "import datetime\n",
        "from sklearn.model_selection import train_test_split\n",
        "from patsy import dmatrices\n",
        "from sklearn.neighbors import KNeighborsRegressor\n",
        "from sklearn.ensemble import RandomForestClassifier\n",
        "from sklearn.metrics import confusion_matrix, ConfusionMatrixDisplay, f1_score,accuracy_score\n",
        "import seaborn as sns\n",
        "import random\n",
        "import time\n",
        "random.seed(786)\n",
        "from sklearn.metrics import mean_squared_error"
      ],
      "execution_count": 7,
      "outputs": []
    },
    {
      "cell_type": "markdown",
      "metadata": {
        "id": "w7Uy7VRfohq3"
      },
      "source": [
        ""
      ]
    },
    {
      "cell_type": "code",
      "metadata": {
        "id": "aYOuwLwplgES"
      },
      "source": [
        "dataset= pd.read_csv('multiTimeline_2D.csv',error_bad_lines= False, sep=',')\n"
      ],
      "execution_count": 8,
      "outputs": []
    },
    {
      "cell_type": "code",
      "metadata": {
        "id": "IbP76iCWxR_P",
        "outputId": "6b3b9dd5-f457-40ef-8fd7-c7b4fad5cacb",
        "colab": {
          "base_uri": "https://localhost:8080/",
          "height": 204
        }
      },
      "source": [
        "dataset.head(5)"
      ],
      "execution_count": 10,
      "outputs": [
        {
          "output_type": "execute_result",
          "data": {
            "text/html": [
              "<div>\n",
              "<style scoped>\n",
              "    .dataframe tbody tr th:only-of-type {\n",
              "        vertical-align: middle;\n",
              "    }\n",
              "\n",
              "    .dataframe tbody tr th {\n",
              "        vertical-align: top;\n",
              "    }\n",
              "\n",
              "    .dataframe thead th {\n",
              "        text-align: right;\n",
              "    }\n",
              "</style>\n",
              "<table border=\"1\" class=\"dataframe\">\n",
              "  <thead>\n",
              "    <tr style=\"text-align: right;\">\n",
              "      <th></th>\n",
              "      <th>x_t0</th>\n",
              "      <th>x_t1</th>\n",
              "      <th>x_t2</th>\n",
              "    </tr>\n",
              "  </thead>\n",
              "  <tbody>\n",
              "    <tr>\n",
              "      <th>0</th>\n",
              "      <td>69</td>\n",
              "      <td>66</td>\n",
              "      <td>61</td>\n",
              "    </tr>\n",
              "    <tr>\n",
              "      <th>1</th>\n",
              "      <td>66</td>\n",
              "      <td>61</td>\n",
              "      <td>57</td>\n",
              "    </tr>\n",
              "    <tr>\n",
              "      <th>2</th>\n",
              "      <td>61</td>\n",
              "      <td>57</td>\n",
              "      <td>51</td>\n",
              "    </tr>\n",
              "    <tr>\n",
              "      <th>3</th>\n",
              "      <td>57</td>\n",
              "      <td>51</td>\n",
              "      <td>49</td>\n",
              "    </tr>\n",
              "    <tr>\n",
              "      <th>4</th>\n",
              "      <td>51</td>\n",
              "      <td>49</td>\n",
              "      <td>47</td>\n",
              "    </tr>\n",
              "  </tbody>\n",
              "</table>\n",
              "</div>"
            ],
            "text/plain": [
              "   x_t0  x_t1  x_t2\n",
              "0    69    66    61\n",
              "1    66    61    57\n",
              "2    61    57    51\n",
              "3    57    51    49\n",
              "4    51    49    47"
            ]
          },
          "metadata": {
            "tags": []
          },
          "execution_count": 10
        }
      ]
    },
    {
      "cell_type": "code",
      "metadata": {
        "id": "qk_Hba9hxDrU"
      },
      "source": [
        "#Count Missing Data\n",
        "missing = dataset.isna().sum().sort_values(ascending = False)\n",
        "percent_missing = ((missing / dataset.isnull().count()) * 100).sort_values(ascending = False)\n",
        "missing_df = pd.concat([missing,percent_missing], axis = 1, keys = ['Total', 'Percent'],sort = False)\n",
        "missing_df[missing_df['Total'] >= 1]"
      ],
      "execution_count": null,
      "outputs": []
    },
    {
      "cell_type": "code",
      "metadata": {
        "id": "okQbiWcsxJK2"
      },
      "source": [
        "dataset.dropna(inplace=True)"
      ],
      "execution_count": null,
      "outputs": []
    },
    {
      "cell_type": "code",
      "metadata": {
        "id": "tgUETv4Eod7Z"
      },
      "source": [
        "X = dataset.iloc[:,0:-1]\n",
        "y = dataset.iloc[:,-1]"
      ],
      "execution_count": 3,
      "outputs": []
    },
    {
      "cell_type": "code",
      "metadata": {
        "id": "DFoUHVXcouiB"
      },
      "source": [
        "X_train = X.head(X.shape[0] -1)\n",
        "y_train=y.head(y.shape[0]-1)\n",
        "X_test= X.tail(1)\n",
        "y_test=y.tail(1)"
      ],
      "execution_count": 4,
      "outputs": []
    },
    {
      "cell_type": "code",
      "metadata": {
        "id": "_bJzwgqfozr2"
      },
      "source": [
        "\n",
        "## defining a reusable function to evaluate model performance\n",
        "\n",
        "def eval_result(model_name,y_train,y_predtrain,y_test,y_predtest,n_neighbors):\n",
        "\n",
        "    rmse_train = mean_squared_error(y_train, y_predtrain, squared=False)\n",
        "    print( f\"RMSE Train error for k= {n_neighbors} is {rmse_train}\")\n",
        "    rmse_test = mean_squared_error(y_test, y_predtest, squared=False)\n",
        "    print( f\"RMSE Test error for k= {n_neighbors} is {rmse_test}\")"
      ],
      "execution_count": 5,
      "outputs": []
    },
    {
      "cell_type": "code",
      "metadata": {
        "id": "sZwmXMlNo3Bi"
      },
      "source": [
        "# reusable function to calculate run time for model training\n",
        "\n",
        "def run_model(model):\n",
        "    t0=time.time()\n",
        "    model.fit(X_train,y_train)\n",
        "    time_taken= time.time()- t0\n",
        "    print(f'Time taken: {time_taken}')"
      ],
      "execution_count": 6,
      "outputs": []
    },
    {
      "cell_type": "markdown",
      "metadata": {
        "id": "oLUwEmSQw5ja"
      },
      "source": [
        "# Model Building"
      ]
    },
    {
      "cell_type": "code",
      "metadata": {
        "colab": {
          "base_uri": "https://localhost:8080/"
        },
        "id": "EC4oqvnJo88B",
        "outputId": "a6dfcdb0-5e11-4b1a-87ce-a5b613e3d695"
      },
      "source": [
        "# p = 2 is equivalent to using the euclidean distance\n",
        "\n",
        "for n_neighbors in range(1,4):\n",
        "  model1 = KNeighborsRegressor(n_neighbors=n_neighbors,weights='distance',algorithm='auto',p=2)\n",
        "  run_model(model1)\n",
        "  #model1.fit(X_train,y_train)\n",
        "\n",
        "  y_hat_train = model1.predict(X_train)\n",
        "  y_hat_test = model1.predict(X_test)\n",
        "  print(f'Prediction for K= {n_neighbors} is {y_hat_test}')\n",
        "  print(f'Actual for K= {n_neighbors} is {y_test.values}')\n",
        "  y_hat_test=pd.DataFrame(y_hat_test)\n",
        "\n",
        "  eval_result(model1,y_train,y_hat_train,y_test,y_hat_test,n_neighbors)"
      ],
      "execution_count": null,
      "outputs": [
        {
          "output_type": "stream",
          "text": [
            "Time taken: 0.0019812583923339844\n",
            "Prediction for K= 1 is [89.]\n",
            "Actual for K= 1 is [88]\n",
            "RMSE Train error for k= 1 is 0.8384690232980005\n",
            "RMSE Test error for k= 1 is 1.0\n",
            "Time taken: 0.0006394386291503906\n",
            "Prediction for K= 2 is [91.92302628]\n",
            "Actual for K= 2 is [88]\n",
            "RMSE Train error for k= 2 is 0.6973977605094789\n",
            "RMSE Test error for k= 2 is 3.923026282451332\n",
            "Time taken: 0.0007379055023193359\n",
            "Prediction for K= 3 is [88.92665665]\n",
            "Actual for K= 3 is [88]\n",
            "RMSE Train error for k= 3 is 0.6669191441105471\n",
            "RMSE Test error for k= 3 is 0.9266566498721431\n"
          ],
          "name": "stdout"
        }
      ]
    },
    {
      "cell_type": "code",
      "metadata": {
        "colab": {
          "base_uri": "https://localhost:8080/"
        },
        "id": "FKnu-PknpFtv",
        "outputId": "42b85460-7001-4919-fac2-e16c5b565cf6"
      },
      "source": [
        "# p = 1 is equivalent to using the manhattan distance\n",
        "\n",
        "for n_neighbors in range(1,4):\n",
        "  model1 = KNeighborsRegressor(n_neighbors=n_neighbors,weights='distance',algorithm='auto',p=1)\n",
        "  run_model(model1)\n",
        "  y_hat_train = model1.predict(X_train)\n",
        "  y_hat_test = model1.predict(X_test)\n",
        "  print(f'Prediction for K= {n_neighbors} is {y_hat_test}')\n",
        "  print(f'Actual for K= {n_neighbors} is {y_test.values}')\n",
        "  y_hat_test=pd.DataFrame(y_hat_test)\n",
        "\n",
        "  eval_result(model1,y_train,y_hat_train,y_test,y_hat_test,n_neighbors)"
      ],
      "execution_count": null,
      "outputs": [
        {
          "output_type": "stream",
          "text": [
            "Time taken: 0.0031976699829101562\n",
            "Prediction for K= 1 is [89.]\n",
            "Actual for K= 1 is [88]\n",
            "RMSE Train error for k= 1 is 0.8384690232980005\n",
            "RMSE Test error for k= 1 is 1.0\n",
            "Time taken: 0.0006520748138427734\n",
            "Prediction for K= 2 is [91.625]\n",
            "Actual for K= 2 is [88]\n",
            "RMSE Train error for k= 2 is 0.6973977605094789\n",
            "RMSE Test error for k= 2 is 3.625\n",
            "Time taken: 0.0006926059722900391\n",
            "Prediction for K= 3 is [88.9058296]\n",
            "Actual for K= 3 is [88]\n",
            "RMSE Train error for k= 3 is 0.6669191441105471\n",
            "RMSE Test error for k= 3 is 0.9058295964125591\n"
          ],
          "name": "stdout"
        }
      ]
    },
    {
      "cell_type": "code",
      "metadata": {
        "colab": {
          "base_uri": "https://localhost:8080/"
        },
        "id": "7JORYUYwpO9s",
        "outputId": "c4796dfd-a05e-443f-a160-c44749d79cd5"
      },
      "source": [
        "# p = 3 is equivalent to using the minkowski distance\n",
        "\n",
        "for n_neighbors in range(1,4):\n",
        "  model1 = KNeighborsRegressor(n_neighbors=n_neighbors,weights='distance',algorithm='auto',p=3)\n",
        "  run_model(model1)\n",
        "  y_hat_train = model1.predict(X_train)\n",
        "  y_hat_test = model1.predict(X_test)\n",
        "  print(f'Prediction for K= {n_neighbors} is {y_hat_test}')\n",
        "  print(f'Actual for K= {n_neighbors} is {y_test.values}')\n",
        "\n",
        "  eval_result(model1,y_train,y_hat_train,y_test,y_hat_test,n_neighbors)"
      ],
      "execution_count": null,
      "outputs": [
        {
          "output_type": "stream",
          "text": [
            "Time taken: 0.0011560916900634766\n",
            "Prediction for K= 1 is [95.]\n",
            "Actual for K= 1 is [88]\n",
            "RMSE Train error for k= 1 is 0.8384690232980005\n",
            "RMSE Test error for k= 1 is 7.0\n",
            "Time taken: 0.0006110668182373047\n",
            "Prediction for K= 2 is [92.06906297]\n",
            "Actual for K= 2 is [88]\n",
            "RMSE Train error for k= 2 is 0.6973977605094789\n",
            "RMSE Test error for k= 2 is 4.069062965020564\n",
            "Time taken: 0.0006155967712402344\n",
            "Prediction for K= 3 is [88.95041407]\n",
            "Actual for K= 3 is [88]\n",
            "RMSE Train error for k= 3 is 0.6669191441105471\n",
            "RMSE Test error for k= 3 is 0.950414067241411\n",
            "Time taken: 0.0011301040649414062\n",
            "Prediction for K= 4 is [90.26529231]\n",
            "Actual for K= 4 is [88]\n",
            "RMSE Train error for k= 4 is 0.6578968633671107\n",
            "RMSE Test error for k= 4 is 2.2652923131399376\n",
            "Time taken: 0.0007827281951904297\n",
            "Prediction for K= 5 is [89.18788547]\n",
            "Actual for K= 5 is [88]\n",
            "RMSE Train error for k= 5 is 0.6521138897865351\n",
            "RMSE Test error for k= 5 is 1.1878854694621452\n",
            "Time taken: 0.0006630420684814453\n",
            "Prediction for K= 6 is [89.69181979]\n",
            "Actual for K= 6 is [88]\n",
            "RMSE Train error for k= 6 is 0.6521138897865351\n",
            "RMSE Test error for k= 6 is 1.6918197888765576\n",
            "Time taken: 0.0006253719329833984\n",
            "Prediction for K= 7 is [88.063665]\n",
            "Actual for K= 7 is [88]\n",
            "RMSE Train error for k= 7 is 0.6521138897865351\n",
            "RMSE Test error for k= 7 is 0.06366499596374808\n",
            "Time taken: 0.0006337165832519531\n",
            "Prediction for K= 8 is [86.88550448]\n",
            "Actual for K= 8 is [88]\n",
            "RMSE Train error for k= 8 is 0.6521138897865351\n",
            "RMSE Test error for k= 8 is 1.114495523668765\n",
            "Time taken: 0.0006763935089111328\n",
            "Prediction for K= 9 is [86.00911837]\n",
            "Actual for K= 9 is [88]\n",
            "RMSE Train error for k= 9 is 0.6521138897865351\n",
            "RMSE Test error for k= 9 is 1.9908816283145256\n"
          ],
          "name": "stdout"
        }
      ]
    }
  ]
}