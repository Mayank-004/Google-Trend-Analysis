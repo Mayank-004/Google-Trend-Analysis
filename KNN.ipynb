{
  "nbformat": 4,
  "nbformat_minor": 0,
  "metadata": {
    "kernelspec": {
      "display_name": "Python 3",
      "language": "python",
      "name": "python3"
    },
    "language_info": {
      "codemirror_mode": {
        "name": "ipython",
        "version": 3
      },
      "file_extension": ".py",
      "mimetype": "text/x-python",
      "name": "python",
      "nbconvert_exporter": "python",
      "pygments_lexer": "ipython3",
      "version": "3.8.5"
    },
    "colab": {
      "name": "EAI 6010 Final Project - Binance (ADA).ipynb",
      "provenance": [],
      "collapsed_sections": [],
      "toc_visible": true,
      "include_colab_link": true
    }
  },
  "cells": [
    {
      "cell_type": "markdown",
      "metadata": {
        "id": "view-in-github",
        "colab_type": "text"
      },
      "source": [
        "<a href=\"https://colab.research.google.com/github/Mayank-004/Google-Trend-Analysis/blob/main/KNN.ipynb\" target=\"_parent\"><img src=\"https://colab.research.google.com/assets/colab-badge.svg\" alt=\"Open In Colab\"/></a>"
      ]
    },
    {
      "cell_type": "code",
      "metadata": {
        "id": "RdR-UZojZU59"
      },
      "source": [
        "# Download Python Binance Library (uncomment next 2 liens if library not already installed)\n",
        "\n",
        "\n",
        "import pandas as pd\n",
        "import numpy as np\n",
        "import matplotlib.pyplot as plt\n",
        "import datetime\n",
        "from sklearn.model_selection import train_test_split\n",
        "from patsy import dmatrices\n",
        "from sklearn.neighbors import KNeighborsRegressor\n",
        "from sklearn.ensemble import RandomForestClassifier\n",
        "from sklearn.metrics import confusion_matrix, ConfusionMatrixDisplay, f1_score,accuracy_score\n",
        "import seaborn as sns\n",
        "import random\n",
        "import time\n",
        "random.seed(786)"
      ],
      "execution_count": 278,
      "outputs": []
    },
    {
      "cell_type": "code",
      "metadata": {
        "id": "p6aekZnTwfn2"
      },
      "source": [
        "dataset= pd.read_csv('multiTimeline.csv',error_bad_lines= False, sep=',')\n"
      ],
      "execution_count": 279,
      "outputs": []
    },
    {
      "cell_type": "code",
      "metadata": {
        "colab": {
          "base_uri": "https://localhost:8080/",
          "height": 419
        },
        "id": "lpig3vUFwg8H",
        "outputId": "485fa3d1-56c4-4f7c-f614-df5951d4b62f"
      },
      "source": [
        "dataset"
      ],
      "execution_count": 280,
      "outputs": [
        {
          "output_type": "execute_result",
          "data": {
            "text/html": [
              "<div>\n",
              "<style scoped>\n",
              "    .dataframe tbody tr th:only-of-type {\n",
              "        vertical-align: middle;\n",
              "    }\n",
              "\n",
              "    .dataframe tbody tr th {\n",
              "        vertical-align: top;\n",
              "    }\n",
              "\n",
              "    .dataframe thead th {\n",
              "        text-align: right;\n",
              "    }\n",
              "</style>\n",
              "<table border=\"1\" class=\"dataframe\">\n",
              "  <thead>\n",
              "    <tr style=\"text-align: right;\">\n",
              "      <th></th>\n",
              "      <th>x_t0</th>\n",
              "      <th>x_t1</th>\n",
              "      <th>x_t2</th>\n",
              "    </tr>\n",
              "  </thead>\n",
              "  <tbody>\n",
              "    <tr>\n",
              "      <th>0</th>\n",
              "      <td>69</td>\n",
              "      <td>66</td>\n",
              "      <td>61</td>\n",
              "    </tr>\n",
              "    <tr>\n",
              "      <th>1</th>\n",
              "      <td>66</td>\n",
              "      <td>61</td>\n",
              "      <td>57</td>\n",
              "    </tr>\n",
              "    <tr>\n",
              "      <th>2</th>\n",
              "      <td>61</td>\n",
              "      <td>57</td>\n",
              "      <td>51</td>\n",
              "    </tr>\n",
              "    <tr>\n",
              "      <th>3</th>\n",
              "      <td>57</td>\n",
              "      <td>51</td>\n",
              "      <td>49</td>\n",
              "    </tr>\n",
              "    <tr>\n",
              "      <th>4</th>\n",
              "      <td>51</td>\n",
              "      <td>49</td>\n",
              "      <td>47</td>\n",
              "    </tr>\n",
              "    <tr>\n",
              "      <th>...</th>\n",
              "      <td>...</td>\n",
              "      <td>...</td>\n",
              "      <td>...</td>\n",
              "    </tr>\n",
              "    <tr>\n",
              "      <th>161</th>\n",
              "      <td>28</td>\n",
              "      <td>43</td>\n",
              "      <td>85</td>\n",
              "    </tr>\n",
              "    <tr>\n",
              "      <th>162</th>\n",
              "      <td>43</td>\n",
              "      <td>85</td>\n",
              "      <td>96</td>\n",
              "    </tr>\n",
              "    <tr>\n",
              "      <th>163</th>\n",
              "      <td>85</td>\n",
              "      <td>96</td>\n",
              "      <td>100</td>\n",
              "    </tr>\n",
              "    <tr>\n",
              "      <th>164</th>\n",
              "      <td>96</td>\n",
              "      <td>100</td>\n",
              "      <td>95</td>\n",
              "    </tr>\n",
              "    <tr>\n",
              "      <th>165</th>\n",
              "      <td>100</td>\n",
              "      <td>95</td>\n",
              "      <td>88</td>\n",
              "    </tr>\n",
              "  </tbody>\n",
              "</table>\n",
              "<p>166 rows × 3 columns</p>\n",
              "</div>"
            ],
            "text/plain": [
              "     x_t0  x_t1  x_t2\n",
              "0      69    66    61\n",
              "1      66    61    57\n",
              "2      61    57    51\n",
              "3      57    51    49\n",
              "4      51    49    47\n",
              "..    ...   ...   ...\n",
              "161    28    43    85\n",
              "162    43    85    96\n",
              "163    85    96   100\n",
              "164    96   100    95\n",
              "165   100    95    88\n",
              "\n",
              "[166 rows x 3 columns]"
            ]
          },
          "metadata": {
            "tags": []
          },
          "execution_count": 280
        }
      ]
    },
    {
      "cell_type": "markdown",
      "metadata": {
        "id": "lcuustcEoMP7"
      },
      "source": [
        "### Data Visualization"
      ]
    },
    {
      "cell_type": "code",
      "metadata": {
        "colab": {
          "base_uri": "https://localhost:8080/"
        },
        "id": "-0kItbLMyirF",
        "outputId": "9e4307c2-19ed-4221-d41a-08482d2012ff"
      },
      "source": [
        "df.dtypes"
      ],
      "execution_count": null,
      "outputs": [
        {
          "output_type": "execute_result",
          "data": {
            "text/plain": [
              "Time                datetime64[ns]\n",
              "Open                        object\n",
              "High                        object\n",
              "Low                         object\n",
              "Close                       object\n",
              "Single_Day_Trend             int64\n",
              "Two_Day_Trend                int64\n",
              "dtype: object"
            ]
          },
          "metadata": {
            "tags": []
          },
          "execution_count": 53
        }
      ]
    },
    {
      "cell_type": "code",
      "metadata": {
        "colab": {
          "base_uri": "https://localhost:8080/",
          "height": 49
        },
        "id": "ZUHurKi186xa",
        "outputId": "12ea3df4-bf2f-4caf-c225-d612300226f1"
      },
      "source": [
        "#Count Missing Data\n",
        "missing = df.isna().sum().sort_values(ascending = False)\n",
        "percent_missing = ((missing / df.isnull().count()) * 100).sort_values(ascending = False)\n",
        "missing_df = pd.concat([missing,percent_missing], axis = 1, keys = ['Total', 'Percent'],sort = False)\n",
        "missing_df[missing_df['Total'] >= 1]"
      ],
      "execution_count": null,
      "outputs": [
        {
          "output_type": "execute_result",
          "data": {
            "text/html": [
              "<div>\n",
              "<style scoped>\n",
              "    .dataframe tbody tr th:only-of-type {\n",
              "        vertical-align: middle;\n",
              "    }\n",
              "\n",
              "    .dataframe tbody tr th {\n",
              "        vertical-align: top;\n",
              "    }\n",
              "\n",
              "    .dataframe thead th {\n",
              "        text-align: right;\n",
              "    }\n",
              "</style>\n",
              "<table border=\"1\" class=\"dataframe\">\n",
              "  <thead>\n",
              "    <tr style=\"text-align: right;\">\n",
              "      <th></th>\n",
              "      <th>Total</th>\n",
              "      <th>Percent</th>\n",
              "    </tr>\n",
              "  </thead>\n",
              "  <tbody>\n",
              "  </tbody>\n",
              "</table>\n",
              "</div>"
            ],
            "text/plain": [
              "Empty DataFrame\n",
              "Columns: [Total, Percent]\n",
              "Index: []"
            ]
          },
          "metadata": {
            "tags": []
          },
          "execution_count": 54
        }
      ]
    },
    {
      "cell_type": "code",
      "metadata": {
        "colab": {
          "base_uri": "https://localhost:8080/",
          "height": 49
        },
        "id": "jFpygFUw9XXt",
        "outputId": "ce901db7-757b-4c3c-eb73-eb2f5adb0474"
      },
      "source": [
        "# checking duplicate values in dataset\n",
        "duplicate=df[df.duplicated()]\n",
        "duplicate"
      ],
      "execution_count": null,
      "outputs": [
        {
          "output_type": "execute_result",
          "data": {
            "text/html": [
              "<div>\n",
              "<style scoped>\n",
              "    .dataframe tbody tr th:only-of-type {\n",
              "        vertical-align: middle;\n",
              "    }\n",
              "\n",
              "    .dataframe tbody tr th {\n",
              "        vertical-align: top;\n",
              "    }\n",
              "\n",
              "    .dataframe thead th {\n",
              "        text-align: right;\n",
              "    }\n",
              "</style>\n",
              "<table border=\"1\" class=\"dataframe\">\n",
              "  <thead>\n",
              "    <tr style=\"text-align: right;\">\n",
              "      <th></th>\n",
              "      <th>Time</th>\n",
              "      <th>Open</th>\n",
              "      <th>High</th>\n",
              "      <th>Low</th>\n",
              "      <th>Close</th>\n",
              "      <th>Single_Day_Trend</th>\n",
              "      <th>Two_Day_Trend</th>\n",
              "    </tr>\n",
              "  </thead>\n",
              "  <tbody>\n",
              "  </tbody>\n",
              "</table>\n",
              "</div>"
            ],
            "text/plain": [
              "Empty DataFrame\n",
              "Columns: [Time, Open, High, Low, Close, Single_Day_Trend, Two_Day_Trend]\n",
              "Index: []"
            ]
          },
          "metadata": {
            "tags": []
          },
          "execution_count": 115
        }
      ]
    },
    {
      "cell_type": "code",
      "metadata": {
        "colab": {
          "base_uri": "https://localhost:8080/"
        },
        "id": "jY35Tzv2ABAj",
        "outputId": "1aa73b97-be48-4768-b830-b0498eaa98b3"
      },
      "source": [
        "# checking if dataset is balanced or imbalanced\n",
        "df['Two_Day_Trend'].value_counts(normalize=True)\n"
      ],
      "execution_count": null,
      "outputs": [
        {
          "output_type": "execute_result",
          "data": {
            "text/plain": [
              "1    0.530075\n",
              "0    0.469925\n",
              "Name: Two_Day_Trend, dtype: float64"
            ]
          },
          "metadata": {
            "tags": []
          },
          "execution_count": 56
        }
      ]
    },
    {
      "cell_type": "code",
      "metadata": {
        "colab": {
          "base_uri": "https://localhost:8080/",
          "height": 351
        },
        "id": "zglUx_PTAPhB",
        "outputId": "ffa3c106-46b0-450f-da88-ed5903b72caa"
      },
      "source": [
        "# checking if dataset is balanced or imbalanced\n",
        "\n",
        "sns.countplot(df['Two_Day_Trend'])\n"
      ],
      "execution_count": null,
      "outputs": [
        {
          "output_type": "stream",
          "text": [
            "/usr/local/lib/python3.7/dist-packages/seaborn/_decorators.py:43: FutureWarning: Pass the following variable as a keyword arg: x. From version 0.12, the only valid positional argument will be `data`, and passing other arguments without an explicit keyword will result in an error or misinterpretation.\n",
            "  FutureWarning\n"
          ],
          "name": "stderr"
        },
        {
          "output_type": "execute_result",
          "data": {
            "text/plain": [
              "<matplotlib.axes._subplots.AxesSubplot at 0x7f5e666b95d0>"
            ]
          },
          "metadata": {
            "tags": []
          },
          "execution_count": 57
        },
        {
          "output_type": "display_data",
          "data": {
            "image/png": "[encoded data removed]",
            "text/plain": [
              "<Figure size 432x288 with 1 Axes>"
            ]
          },
          "metadata": {
            "tags": [],
            "needs_background": "light"
          }
        }
      ]
    },
    {
      "cell_type": "code",
      "metadata": {
        "colab": {
          "base_uri": "https://localhost:8080/",
          "height": 402
        },
        "id": "UzhrY60BBfG6",
        "outputId": "8c18101b-93ca-4473-8b35-7cd56ebc7a2c"
      },
      "source": [
        "df1=df.copy(deep=True)\n",
        "\n",
        "# Filtering all Categorical variables\n",
        "vars_categorical = list(df1.select_dtypes(['object']).columns)\n",
        "\n",
        "for x in vars_categorical:\n",
        "    df1.loc[:,x] = df1.loc[:,x].astype(float)\n",
        "\n",
        "\n",
        "corrMatrix= df1.corr()\n",
        "\n",
        "fig, ax = plt.subplots(figsize=(5,5))         # Sample figsize in inches\n",
        "\n",
        "sns.heatmap(corrMatrix, annot=True,linewidth=0.8)\n",
        "plt.show()"
      ],
      "execution_count": null,
      "outputs": [
        {
          "output_type": "display_data",
          "data": {
            "image/png": "[encoded data removed]",
            "text/plain": [
              "<Figure size 360x360 with 2 Axes>"
            ]
          },
          "metadata": {
            "tags": [],
            "needs_background": "light"
          }
        }
      ]
    },
    {
      "cell_type": "code",
      "metadata": {
        "id": "BmLMQiA6zl08"
      },
      "source": [
        "X = dataset.loc[:,dataset.columns!='x_t2']\n",
        "y = dataset['x_t2']"
      ],
      "execution_count": 249,
      "outputs": []
    },
    {
      "cell_type": "code",
      "metadata": {
        "id": "ExxaMA6xxOtO"
      },
      "source": [
        "X_train = X.head(X.shape[0] -1)\n",
        "y_train=y.head(y.shape[0]-1)\n",
        "X_test= X.tail(1)\n",
        "y_test=y.tail(1)"
      ],
      "execution_count": 251,
      "outputs": []
    },
    {
      "cell_type": "code",
      "metadata": {
        "id": "Y21u9DgFDP1B"
      },
      "source": [
        "\n",
        "## defining a reusable function to evaluate model performance\n",
        "\n",
        "def eval_result(model_name,y_train,y_predtrain,y_test,y_predtest,n_neighbors):\n",
        "\n",
        "    from matplotlib import pyplot as plt\n",
        "\n",
        "    from sklearn.metrics import mean_squared_error\n",
        "\n",
        "    rmse_train = mean_squared_error(y_train, y_predtrain, squared=False)\n",
        "    print( f\"RMSE Train error for k= {n_neighbors} is {rmse_train}\")\n",
        "    rmse_test = mean_squared_error(y_test, y_predtest, squared=False)\n",
        "    print( f\"RMSE Test error for k= {n_neighbors} is {rmse_test}\")\n",
        "\n",
        "  "
      ],
      "execution_count": 269,
      "outputs": []
    },
    {
      "cell_type": "code",
      "metadata": {
        "id": "DTtSRgNguCSp"
      },
      "source": [
        "def run_model(model,verbose=True):\n",
        "    t0=time.time()\n",
        "    if verbose== False:\n",
        "        model.fit(X_train,y_train.ravel(),verbose=0)\n",
        "    else :\n",
        "        model.fit(X_train,y_train.ravel())\n",
        "    \n",
        "    time_taken= time.time()- t0\n",
        "    print(f'Time taken: {time_taken}')"
      ],
      "execution_count": 270,
      "outputs": []
    },
    {
      "cell_type": "markdown",
      "metadata": {
        "id": "dVwS2HzrZU6A"
      },
      "source": [
        "# kNN Model"
      ]
    },
    {
      "cell_type": "code",
      "metadata": {
        "scrolled": false,
        "colab": {
          "base_uri": "https://localhost:8080/"
        },
        "id": "iBnwNNhDZU6A",
        "outputId": "c86a8840-1d9b-4a7f-c71d-65319f61d445"
      },
      "source": [
        "# p = 2 is equivalent to using the euclidean distance\n",
        "# weights = 'distance' means closer points are weighted more heavily than further away points\n",
        "n_neighbors = 3\n",
        "model1 = KNeighborsRegressor(n_neighbors=n_neighbors,weights='distance',algorithm='auto',p=2)\n",
        "run_model(model1)\n",
        "y_hat_train = model1.predict(X_train)\n",
        "y_hat_test = model1.predict(X_test)\n",
        "\n",
        "eval_result(model1,y_train,y_hat_train,y_test,y_hat_test,n_neighbors)\n"
      ],
      "execution_count": 271,
      "outputs": [
        {
          "output_type": "stream",
          "text": [
            "Time taken: 0.00429534912109375\n",
            "RMSE Train error for k= 3 is 0.6669191441105471\n",
            "RMSE Test error for k= 3 is 0.9266566498721431\n"
          ],
          "name": "stdout"
        }
      ]
    },
    {
      "cell_type": "code",
      "metadata": {
        "colab": {
          "base_uri": "https://localhost:8080/",
          "height": 644
        },
        "id": "EhBmzWuBEu6a",
        "outputId": "e7f9a4aa-8e0c-4378-c19f-45c40758a6c8"
      },
      "source": [
        "plt.scatter(X_train, y_train.ravel(), color='darkorange', label='data')\n",
        "plt.plot(X_train, y_hat_train, color='navy', label='prediction')\n",
        "plt.axis('tight')\n",
        "plt.legend()\n",
        "plt.title(\"KNeighborsRegressor (k = %i, weights = '%s')\" % (n_neighbors, weights))"
      ],
      "execution_count": 277,
      "outputs": [
        {
          "output_type": "error",
          "ename": "ValueError",
          "evalue": "ignored",
          "traceback": [
            "\u001b[0;31m---------------------------------------------------------------------------\u001b[0m",
            "\u001b[0;31mValueError\u001b[0m                                Traceback (most recent call last)",
            "\u001b[0;32m<ipython-input-277-e0b2653d1ccd>\u001b[0m in \u001b[0;36m<module>\u001b[0;34m()\u001b[0m\n\u001b[0;32m----> 1\u001b[0;31m \u001b[0mplt\u001b[0m\u001b[0;34m.\u001b[0m\u001b[0mscatter\u001b[0m\u001b[0;34m(\u001b[0m\u001b[0mX_train\u001b[0m\u001b[0;34m,\u001b[0m \u001b[0my_train\u001b[0m\u001b[0;34m.\u001b[0m\u001b[0mravel\u001b[0m\u001b[0;34m(\u001b[0m\u001b[0;34m)\u001b[0m\u001b[0;34m,\u001b[0m \u001b[0mcolor\u001b[0m\u001b[0;34m=\u001b[0m\u001b[0;34m'darkorange'\u001b[0m\u001b[0;34m,\u001b[0m \u001b[0mlabel\u001b[0m\u001b[0;34m=\u001b[0m\u001b[0;34m'data'\u001b[0m\u001b[0;34m)\u001b[0m\u001b[0;34m\u001b[0m\u001b[0;34m\u001b[0m\u001b[0m\n\u001b[0m\u001b[1;32m      2\u001b[0m \u001b[0mplt\u001b[0m\u001b[0;34m.\u001b[0m\u001b[0mplot\u001b[0m\u001b[0;34m(\u001b[0m\u001b[0mX_train\u001b[0m\u001b[0;34m,\u001b[0m \u001b[0my_hat_train\u001b[0m\u001b[0;34m,\u001b[0m \u001b[0mcolor\u001b[0m\u001b[0;34m=\u001b[0m\u001b[0;34m'navy'\u001b[0m\u001b[0;34m,\u001b[0m \u001b[0mlabel\u001b[0m\u001b[0;34m=\u001b[0m\u001b[0;34m'prediction'\u001b[0m\u001b[0;34m)\u001b[0m\u001b[0;34m\u001b[0m\u001b[0;34m\u001b[0m\u001b[0m\n\u001b[1;32m      3\u001b[0m \u001b[0mplt\u001b[0m\u001b[0;34m.\u001b[0m\u001b[0maxis\u001b[0m\u001b[0;34m(\u001b[0m\u001b[0;34m'tight'\u001b[0m\u001b[0;34m)\u001b[0m\u001b[0;34m\u001b[0m\u001b[0;34m\u001b[0m\u001b[0m\n\u001b[1;32m      4\u001b[0m \u001b[0mplt\u001b[0m\u001b[0;34m.\u001b[0m\u001b[0mlegend\u001b[0m\u001b[0;34m(\u001b[0m\u001b[0;34m)\u001b[0m\u001b[0;34m\u001b[0m\u001b[0;34m\u001b[0m\u001b[0m\n\u001b[1;32m      5\u001b[0m plt.title(\"KNeighborsRegressor (k = %i, weights = '%s')\" % (n_neighbors,\n",
            "\u001b[0;32m/usr/local/lib/python3.7/dist-packages/matplotlib/pyplot.py\u001b[0m in \u001b[0;36mscatter\u001b[0;34m(x, y, s, c, marker, cmap, norm, vmin, vmax, alpha, linewidths, verts, edgecolors, plotnonfinite, data, **kwargs)\u001b[0m\n\u001b[1;32m   2814\u001b[0m         \u001b[0mverts\u001b[0m\u001b[0;34m=\u001b[0m\u001b[0mverts\u001b[0m\u001b[0;34m,\u001b[0m \u001b[0medgecolors\u001b[0m\u001b[0;34m=\u001b[0m\u001b[0medgecolors\u001b[0m\u001b[0;34m,\u001b[0m\u001b[0;34m\u001b[0m\u001b[0;34m\u001b[0m\u001b[0m\n\u001b[1;32m   2815\u001b[0m         plotnonfinite=plotnonfinite, **({\"data\": data} if data is not\n\u001b[0;32m-> 2816\u001b[0;31m         None else {}), **kwargs)\n\u001b[0m\u001b[1;32m   2817\u001b[0m     \u001b[0msci\u001b[0m\u001b[0;34m(\u001b[0m\u001b[0m__ret\u001b[0m\u001b[0;34m)\u001b[0m\u001b[0;34m\u001b[0m\u001b[0;34m\u001b[0m\u001b[0m\n\u001b[1;32m   2818\u001b[0m     \u001b[0;32mreturn\u001b[0m \u001b[0m__ret\u001b[0m\u001b[0;34m\u001b[0m\u001b[0;34m\u001b[0m\u001b[0m\n",
            "\u001b[0;32m/usr/local/lib/python3.7/dist-packages/matplotlib/__init__.py\u001b[0m in \u001b[0;36minner\u001b[0;34m(ax, data, *args, **kwargs)\u001b[0m\n\u001b[1;32m   1563\u001b[0m     \u001b[0;32mdef\u001b[0m \u001b[0minner\u001b[0m\u001b[0;34m(\u001b[0m\u001b[0max\u001b[0m\u001b[0;34m,\u001b[0m \u001b[0;34m*\u001b[0m\u001b[0margs\u001b[0m\u001b[0;34m,\u001b[0m \u001b[0mdata\u001b[0m\u001b[0;34m=\u001b[0m\u001b[0;32mNone\u001b[0m\u001b[0;34m,\u001b[0m \u001b[0;34m**\u001b[0m\u001b[0mkwargs\u001b[0m\u001b[0;34m)\u001b[0m\u001b[0;34m:\u001b[0m\u001b[0;34m\u001b[0m\u001b[0;34m\u001b[0m\u001b[0m\n\u001b[1;32m   1564\u001b[0m         \u001b[0;32mif\u001b[0m \u001b[0mdata\u001b[0m \u001b[0;32mis\u001b[0m \u001b[0;32mNone\u001b[0m\u001b[0;34m:\u001b[0m\u001b[0;34m\u001b[0m\u001b[0;34m\u001b[0m\u001b[0m\n\u001b[0;32m-> 1565\u001b[0;31m             \u001b[0;32mreturn\u001b[0m \u001b[0mfunc\u001b[0m\u001b[0;34m(\u001b[0m\u001b[0max\u001b[0m\u001b[0;34m,\u001b[0m \u001b[0;34m*\u001b[0m\u001b[0mmap\u001b[0m\u001b[0;34m(\u001b[0m\u001b[0msanitize_sequence\u001b[0m\u001b[0;34m,\u001b[0m \u001b[0margs\u001b[0m\u001b[0;34m)\u001b[0m\u001b[0;34m,\u001b[0m \u001b[0;34m**\u001b[0m\u001b[0mkwargs\u001b[0m\u001b[0;34m)\u001b[0m\u001b[0;34m\u001b[0m\u001b[0;34m\u001b[0m\u001b[0m\n\u001b[0m\u001b[1;32m   1566\u001b[0m \u001b[0;34m\u001b[0m\u001b[0m\n\u001b[1;32m   1567\u001b[0m         \u001b[0mbound\u001b[0m \u001b[0;34m=\u001b[0m \u001b[0mnew_sig\u001b[0m\u001b[0;34m.\u001b[0m\u001b[0mbind\u001b[0m\u001b[0;34m(\u001b[0m\u001b[0max\u001b[0m\u001b[0;34m,\u001b[0m \u001b[0;34m*\u001b[0m\u001b[0margs\u001b[0m\u001b[0;34m,\u001b[0m \u001b[0;34m**\u001b[0m\u001b[0mkwargs\u001b[0m\u001b[0;34m)\u001b[0m\u001b[0;34m\u001b[0m\u001b[0;34m\u001b[0m\u001b[0m\n",
            "\u001b[0;32m/usr/local/lib/python3.7/dist-packages/matplotlib/cbook/deprecation.py\u001b[0m in \u001b[0;36mwrapper\u001b[0;34m(*args, **kwargs)\u001b[0m\n\u001b[1;32m    356\u001b[0m                 \u001b[0;34mf\"%(removal)s.  If any parameter follows {name!r}, they \"\u001b[0m\u001b[0;34m\u001b[0m\u001b[0;34m\u001b[0m\u001b[0m\n\u001b[1;32m    357\u001b[0m                 f\"should be pass as keyword, not positionally.\")\n\u001b[0;32m--> 358\u001b[0;31m         \u001b[0;32mreturn\u001b[0m \u001b[0mfunc\u001b[0m\u001b[0;34m(\u001b[0m\u001b[0;34m*\u001b[0m\u001b[0margs\u001b[0m\u001b[0;34m,\u001b[0m \u001b[0;34m**\u001b[0m\u001b[0mkwargs\u001b[0m\u001b[0;34m)\u001b[0m\u001b[0;34m\u001b[0m\u001b[0;34m\u001b[0m\u001b[0m\n\u001b[0m\u001b[1;32m    359\u001b[0m \u001b[0;34m\u001b[0m\u001b[0m\n\u001b[1;32m    360\u001b[0m     \u001b[0;32mreturn\u001b[0m \u001b[0mwrapper\u001b[0m\u001b[0;34m\u001b[0m\u001b[0;34m\u001b[0m\u001b[0m\n",
            "\u001b[0;32m/usr/local/lib/python3.7/dist-packages/matplotlib/axes/_axes.py\u001b[0m in \u001b[0;36mscatter\u001b[0;34m(self, x, y, s, c, marker, cmap, norm, vmin, vmax, alpha, linewidths, verts, edgecolors, plotnonfinite, **kwargs)\u001b[0m\n\u001b[1;32m   4389\u001b[0m         \u001b[0my\u001b[0m \u001b[0;34m=\u001b[0m \u001b[0mnp\u001b[0m\u001b[0;34m.\u001b[0m\u001b[0mma\u001b[0m\u001b[0;34m.\u001b[0m\u001b[0mravel\u001b[0m\u001b[0;34m(\u001b[0m\u001b[0my\u001b[0m\u001b[0;34m)\u001b[0m\u001b[0;34m\u001b[0m\u001b[0;34m\u001b[0m\u001b[0m\n\u001b[1;32m   4390\u001b[0m         \u001b[0;32mif\u001b[0m \u001b[0mx\u001b[0m\u001b[0;34m.\u001b[0m\u001b[0msize\u001b[0m \u001b[0;34m!=\u001b[0m \u001b[0my\u001b[0m\u001b[0;34m.\u001b[0m\u001b[0msize\u001b[0m\u001b[0;34m:\u001b[0m\u001b[0;34m\u001b[0m\u001b[0;34m\u001b[0m\u001b[0m\n\u001b[0;32m-> 4391\u001b[0;31m             \u001b[0;32mraise\u001b[0m \u001b[0mValueError\u001b[0m\u001b[0;34m(\u001b[0m\u001b[0;34m\"x and y must be the same size\"\u001b[0m\u001b[0;34m)\u001b[0m\u001b[0;34m\u001b[0m\u001b[0;34m\u001b[0m\u001b[0m\n\u001b[0m\u001b[1;32m   4392\u001b[0m \u001b[0;34m\u001b[0m\u001b[0m\n\u001b[1;32m   4393\u001b[0m         \u001b[0;32mif\u001b[0m \u001b[0ms\u001b[0m \u001b[0;32mis\u001b[0m \u001b[0;32mNone\u001b[0m\u001b[0;34m:\u001b[0m\u001b[0;34m\u001b[0m\u001b[0;34m\u001b[0m\u001b[0m\n",
            "\u001b[0;31mValueError\u001b[0m: x and y must be the same size"
          ]
        },
        {
          "output_type": "display_data",
          "data": {
            "image/png": "[encoded data removed]",
            "text/plain": [
              "<Figure size 432x288 with 1 Axes>"
            ]
          },
          "metadata": {
            "tags": [],
            "needs_background": "light"
          }
        }
      ]
    },
    {
      "cell_type": "code",
      "metadata": {
        "colab": {
          "base_uri": "https://localhost:8080/"
        },
        "id": "cCuqWi6p-yhF",
        "outputId": "a11812ca-bbd5-4cd8-fc48-2ec71056f17a"
      },
      "source": [
        "# p = 2 is equivalent to using the euclidean distance\n",
        "\n",
        "for n_neighbors in range(1,10):\n",
        "  model1 = KNeighborsRegressor(n_neighbors=n_neighbors,weights='distance',algorithm='auto',p=2)\n",
        "  run_model(model1)\n",
        "  y_hat_train = model1.predict(X_train)\n",
        "  y_hat_test = model1.predict(X_test)\n",
        "\n",
        "  eval_result(model1,y_train,y_hat_train,y_test,y_hat_test,n_neighbors)"
      ],
      "execution_count": 272,
      "outputs": [
        {
          "output_type": "stream",
          "text": [
            "Time taken: 0.0023491382598876953\n",
            "RMSE Train error for k= 1 is 0.8384690232980005\n",
            "RMSE Test error for k= 1 is 1.0\n",
            "Time taken: 0.001657724380493164\n",
            "RMSE Train error for k= 2 is 0.6973977605094789\n",
            "RMSE Test error for k= 2 is 3.923026282451332\n",
            "Time taken: 0.0008099079132080078\n",
            "RMSE Train error for k= 3 is 0.6669191441105471\n",
            "RMSE Test error for k= 3 is 0.9266566498721431\n",
            "Time taken: 0.0007507801055908203\n",
            "RMSE Train error for k= 4 is 0.6578968633671107\n",
            "RMSE Test error for k= 4 is 2.3276348602655474\n",
            "Time taken: 0.0007555484771728516\n",
            "RMSE Train error for k= 5 is 0.6521138897865351\n",
            "RMSE Test error for k= 5 is 1.2900451423944759\n",
            "Time taken: 0.0007562637329101562\n",
            "RMSE Train error for k= 6 is 0.6521138897865351\n",
            "RMSE Test error for k= 6 is 1.8182059033792086\n",
            "Time taken: 0.0007443428039550781\n",
            "RMSE Train error for k= 7 is 0.6521138897865351\n",
            "RMSE Test error for k= 7 is 0.25387750708453893\n",
            "Time taken: 0.0008440017700195312\n",
            "RMSE Train error for k= 8 is 0.6521138897865351\n",
            "RMSE Test error for k= 8 is 0.8972434553061248\n",
            "Time taken: 0.0009582042694091797\n",
            "RMSE Train error for k= 9 is 0.6521138897865351\n",
            "RMSE Test error for k= 9 is 0.6657544631855501\n"
          ],
          "name": "stdout"
        }
      ]
    },
    {
      "cell_type": "code",
      "metadata": {
        "colab": {
          "base_uri": "https://localhost:8080/"
        },
        "id": "8vJDSQNSEA3p",
        "outputId": "1e95c2e7-0363-4524-af9c-6e65e7619699"
      },
      "source": [
        "# p = 1 is equivalent to using the manhattan distance\n",
        "\n",
        "for n_neighbors in range(1,10):\n",
        "  model1 = KNeighborsRegressor(n_neighbors=n_neighbors,weights='distance',algorithm='auto',p=1)\n",
        "  run_model(model1)\n",
        "  y_hat_train = model1.predict(X_train)\n",
        "  y_hat_test = model1.predict(X_test)\n",
        "\n",
        "  eval_result(model1,y_train,y_hat_train,y_test,y_hat_test,n_neighbors)"
      ],
      "execution_count": 273,
      "outputs": [
        {
          "output_type": "stream",
          "text": [
            "Time taken: 0.0018362998962402344\n",
            "RMSE Train error for k= 1 is 0.8384690232980005\n",
            "RMSE Test error for k= 1 is 1.0\n",
            "Time taken: 0.0009717941284179688\n",
            "RMSE Train error for k= 2 is 0.6973977605094789\n",
            "RMSE Test error for k= 2 is 3.625\n",
            "Time taken: 0.0008454322814941406\n",
            "RMSE Train error for k= 3 is 0.6669191441105471\n",
            "RMSE Test error for k= 3 is 0.9058295964125591\n",
            "Time taken: 0.0007872581481933594\n",
            "RMSE Train error for k= 4 is 0.6578968633671107\n",
            "RMSE Test error for k= 4 is 2.570747975226297\n",
            "Time taken: 0.0008387565612792969\n",
            "RMSE Train error for k= 5 is 0.6521138897865351\n",
            "RMSE Test error for k= 5 is 3.127832407011539\n",
            "Time taken: 0.0008397102355957031\n",
            "RMSE Train error for k= 6 is 0.6521138897865351\n",
            "RMSE Test error for k= 6 is 2.211063162024331\n",
            "Time taken: 0.0007987022399902344\n",
            "RMSE Train error for k= 7 is 0.6521138897865351\n",
            "RMSE Test error for k= 7 is 0.7858945455769089\n",
            "Time taken: 0.0009143352508544922\n",
            "RMSE Train error for k= 8 is 0.6521138897865351\n",
            "RMSE Test error for k= 8 is 0.2854306826954911\n",
            "Time taken: 0.0008633136749267578\n",
            "RMSE Train error for k= 9 is 0.6521138897865351\n",
            "RMSE Test error for k= 9 is 0.07915499871130294\n"
          ],
          "name": "stdout"
        }
      ]
    },
    {
      "cell_type": "code",
      "metadata": {
        "colab": {
          "base_uri": "https://localhost:8080/"
        },
        "id": "5IJ46cyIEIR3",
        "outputId": "0611bb5c-cb9a-405b-e554-f2cf46f41336"
      },
      "source": [
        "# p = 3 is equivalent to using the minkowski distance\n",
        "\n",
        "for n_neighbors in range(1,10):\n",
        "  model1 = KNeighborsRegressor(n_neighbors=n_neighbors,weights='distance',algorithm='auto',p=3)\n",
        "  run_model(model1)\n",
        "  y_hat_train = model1.predict(X_train)\n",
        "  y_hat_test = model1.predict(X_test)\n",
        "\n",
        "  eval_result(model1,y_train,y_hat_train,y_test,y_hat_test,n_neighbors)"
      ],
      "execution_count": 274,
      "outputs": [
        {
          "output_type": "stream",
          "text": [
            "Time taken: 0.0019207000732421875\n",
            "RMSE Train error for k= 1 is 0.8384690232980005\n",
            "RMSE Test error for k= 1 is 7.0\n",
            "Time taken: 0.0014972686767578125\n",
            "RMSE Train error for k= 2 is 0.6973977605094789\n",
            "RMSE Test error for k= 2 is 4.069062965020564\n",
            "Time taken: 0.001007080078125\n",
            "RMSE Train error for k= 3 is 0.6669191441105471\n",
            "RMSE Test error for k= 3 is 0.950414067241411\n",
            "Time taken: 0.0009016990661621094\n",
            "RMSE Train error for k= 4 is 0.6578968633671107\n",
            "RMSE Test error for k= 4 is 2.2652923131399376\n",
            "Time taken: 0.0009427070617675781\n",
            "RMSE Train error for k= 5 is 0.6521138897865351\n",
            "RMSE Test error for k= 5 is 1.1878854694621452\n",
            "Time taken: 0.0011026859283447266\n",
            "RMSE Train error for k= 6 is 0.6521138897865351\n",
            "RMSE Test error for k= 6 is 1.6918197888765576\n",
            "Time taken: 0.0009567737579345703\n",
            "RMSE Train error for k= 7 is 0.6521138897865351\n",
            "RMSE Test error for k= 7 is 0.06366499596374808\n",
            "Time taken: 0.0009598731994628906\n",
            "RMSE Train error for k= 8 is 0.6521138897865351\n",
            "RMSE Test error for k= 8 is 1.114495523668765\n",
            "Time taken: 0.00091552734375\n",
            "RMSE Train error for k= 9 is 0.6521138897865351\n",
            "RMSE Test error for k= 9 is 1.9908816283145256\n"
          ],
          "name": "stdout"
        }
      ]
    }
  ]
}