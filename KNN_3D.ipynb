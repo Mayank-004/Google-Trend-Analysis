{
  "nbformat": 4,
  "nbformat_minor": 0,
  "metadata": {
    "colab": {
      "name": "Untitled0.ipynb",
      "provenance": [],
      "authorship_tag": "ABX9TyMEmWm6Ey//3UYKn1OCxJSW",
      "include_colab_link": true
    },
    "kernelspec": {
      "name": "python3",
      "display_name": "Python 3"
    },
    "language_info": {
      "name": "python"
    }
  },
  "cells": [
    {
      "cell_type": "markdown",
      "metadata": {
        "id": "view-in-github",
        "colab_type": "text"
      },
      "source": [
        "<a href=\"https://colab.research.google.com/github/Mayank-004/Google-Trend-Analysis/blob/main/KNN_3D.ipynb\" target=\"_parent\"><img src=\"https://colab.research.google.com/assets/colab-badge.svg\" alt=\"Open In Colab\"/></a>"
      ]
    },
    {
      "cell_type": "markdown",
      "metadata": {
        "id": "xeI8GFFuok6L"
      },
      "source": [
        "### 2D KNN Prediction"
      ]
    },
    {
      "cell_type": "code",
      "metadata": {
        "id": "Tyn0EXKXoioe"
      },
      "source": [
        "import pandas as pd\n",
        "import numpy as np\n",
        "import matplotlib.pyplot as plt\n",
        "import datetime\n",
        "from sklearn.model_selection import train_test_split\n",
        "from patsy import dmatrices\n",
        "from sklearn.neighbors import KNeighborsRegressor\n",
        "from sklearn.ensemble import RandomForestClassifier\n",
        "from sklearn.metrics import confusion_matrix, ConfusionMatrixDisplay, f1_score,accuracy_score\n",
        "import seaborn as sns\n",
        "import random\n",
        "import time\n",
        "random.seed(786)\n",
        "from sklearn.metrics import mean_squared_error"
      ],
      "execution_count": 16,
      "outputs": []
    },
    {
      "cell_type": "markdown",
      "metadata": {
        "id": "w7Uy7VRfohq3"
      },
      "source": [
        ""
      ]
    },
    {
      "cell_type": "code",
      "metadata": {
        "id": "aYOuwLwplgES"
      },
      "source": [
        "dataset= pd.read_csv('multiTimeline_3D.csv',error_bad_lines= False, sep=',')\n"
      ],
      "execution_count": 17,
      "outputs": []
    },
    {
      "cell_type": "code",
      "metadata": {
        "colab": {
          "base_uri": "https://localhost:8080/",
          "height": 80
        },
        "id": "x000uMNHreQJ",
        "outputId": "fcda5806-70c1-487e-b29d-a7c3d9db42f8"
      },
      "source": [
        "#Count Missing Data\n",
        "missing = dataset.isna().sum().sort_values(ascending = False)\n",
        "percent_missing = ((missing / dataset.isnull().count()) * 100).sort_values(ascending = False)\n",
        "missing_df = pd.concat([missing,percent_missing], axis = 1, keys = ['Total', 'Percent'],sort = False)\n",
        "missing_df[missing_df['Total'] >= 1]"
      ],
      "execution_count": 30,
      "outputs": [
        {
          "output_type": "execute_result",
          "data": {
            "text/html": [
              "<div>\n",
              "<style scoped>\n",
              "    .dataframe tbody tr th:only-of-type {\n",
              "        vertical-align: middle;\n",
              "    }\n",
              "\n",
              "    .dataframe tbody tr th {\n",
              "        vertical-align: top;\n",
              "    }\n",
              "\n",
              "    .dataframe thead th {\n",
              "        text-align: right;\n",
              "    }\n",
              "</style>\n",
              "<table border=\"1\" class=\"dataframe\">\n",
              "  <thead>\n",
              "    <tr style=\"text-align: right;\">\n",
              "      <th></th>\n",
              "      <th>Total</th>\n",
              "      <th>Percent</th>\n",
              "    </tr>\n",
              "  </thead>\n",
              "  <tbody>\n",
              "    <tr>\n",
              "      <th>x_t2</th>\n",
              "      <td>3</td>\n",
              "      <td>1.807229</td>\n",
              "    </tr>\n",
              "  </tbody>\n",
              "</table>\n",
              "</div>"
            ],
            "text/plain": [
              "      Total   Percent\n",
              "x_t2      3  1.807229"
            ]
          },
          "metadata": {
            "tags": []
          },
          "execution_count": 30
        }
      ]
    },
    {
      "cell_type": "code",
      "metadata": {
        "id": "strHbuJ1rgYO"
      },
      "source": [
        "dataset.dropna(inplace=True)"
      ],
      "execution_count": 31,
      "outputs": []
    },
    {
      "cell_type": "code",
      "metadata": {
        "colab": {
          "base_uri": "https://localhost:8080/",
          "height": 419
        },
        "id": "Azifrzdwr2Vl",
        "outputId": "fbe4a877-aabc-4f40-bae6-55d61dfe0961"
      },
      "source": [
        "dataset"
      ],
      "execution_count": 41,
      "outputs": [
        {
          "output_type": "execute_result",
          "data": {
            "text/html": [
              "<div>\n",
              "<style scoped>\n",
              "    .dataframe tbody tr th:only-of-type {\n",
              "        vertical-align: middle;\n",
              "    }\n",
              "\n",
              "    .dataframe tbody tr th {\n",
              "        vertical-align: top;\n",
              "    }\n",
              "\n",
              "    .dataframe thead th {\n",
              "        text-align: right;\n",
              "    }\n",
              "</style>\n",
              "<table border=\"1\" class=\"dataframe\">\n",
              "  <thead>\n",
              "    <tr style=\"text-align: right;\">\n",
              "      <th></th>\n",
              "      <th>x_t0</th>\n",
              "      <th>x_t1</th>\n",
              "      <th>x_t11</th>\n",
              "      <th>x_t2</th>\n",
              "    </tr>\n",
              "  </thead>\n",
              "  <tbody>\n",
              "    <tr>\n",
              "      <th>0</th>\n",
              "      <td>69</td>\n",
              "      <td>66</td>\n",
              "      <td>61</td>\n",
              "      <td>57.0</td>\n",
              "    </tr>\n",
              "    <tr>\n",
              "      <th>1</th>\n",
              "      <td>66</td>\n",
              "      <td>61</td>\n",
              "      <td>57</td>\n",
              "      <td>51.0</td>\n",
              "    </tr>\n",
              "    <tr>\n",
              "      <th>2</th>\n",
              "      <td>61</td>\n",
              "      <td>57</td>\n",
              "      <td>51</td>\n",
              "      <td>49.0</td>\n",
              "    </tr>\n",
              "    <tr>\n",
              "      <th>3</th>\n",
              "      <td>57</td>\n",
              "      <td>51</td>\n",
              "      <td>49</td>\n",
              "      <td>47.0</td>\n",
              "    </tr>\n",
              "    <tr>\n",
              "      <th>4</th>\n",
              "      <td>51</td>\n",
              "      <td>49</td>\n",
              "      <td>47</td>\n",
              "      <td>46.0</td>\n",
              "    </tr>\n",
              "    <tr>\n",
              "      <th>...</th>\n",
              "      <td>...</td>\n",
              "      <td>...</td>\n",
              "      <td>...</td>\n",
              "      <td>...</td>\n",
              "    </tr>\n",
              "    <tr>\n",
              "      <th>158</th>\n",
              "      <td>25</td>\n",
              "      <td>24</td>\n",
              "      <td>26</td>\n",
              "      <td>28.0</td>\n",
              "    </tr>\n",
              "    <tr>\n",
              "      <th>159</th>\n",
              "      <td>24</td>\n",
              "      <td>26</td>\n",
              "      <td>28</td>\n",
              "      <td>43.0</td>\n",
              "    </tr>\n",
              "    <tr>\n",
              "      <th>160</th>\n",
              "      <td>26</td>\n",
              "      <td>28</td>\n",
              "      <td>43</td>\n",
              "      <td>85.0</td>\n",
              "    </tr>\n",
              "    <tr>\n",
              "      <th>161</th>\n",
              "      <td>28</td>\n",
              "      <td>43</td>\n",
              "      <td>85</td>\n",
              "      <td>96.0</td>\n",
              "    </tr>\n",
              "    <tr>\n",
              "      <th>162</th>\n",
              "      <td>43</td>\n",
              "      <td>85</td>\n",
              "      <td>96</td>\n",
              "      <td>100.0</td>\n",
              "    </tr>\n",
              "  </tbody>\n",
              "</table>\n",
              "<p>163 rows × 4 columns</p>\n",
              "</div>"
            ],
            "text/plain": [
              "     x_t0  x_t1  x_t11   x_t2\n",
              "0      69    66     61   57.0\n",
              "1      66    61     57   51.0\n",
              "2      61    57     51   49.0\n",
              "3      57    51     49   47.0\n",
              "4      51    49     47   46.0\n",
              "..    ...   ...    ...    ...\n",
              "158    25    24     26   28.0\n",
              "159    24    26     28   43.0\n",
              "160    26    28     43   85.0\n",
              "161    28    43     85   96.0\n",
              "162    43    85     96  100.0\n",
              "\n",
              "[163 rows x 4 columns]"
            ]
          },
          "metadata": {
            "tags": []
          },
          "execution_count": 41
        }
      ]
    },
    {
      "cell_type": "code",
      "metadata": {
        "id": "tgUETv4Eod7Z"
      },
      "source": [
        "X = dataset.iloc[:,0:-1]\n",
        "y = dataset.iloc[:,-1]"
      ],
      "execution_count": 32,
      "outputs": []
    },
    {
      "cell_type": "code",
      "metadata": {
        "id": "DFoUHVXcouiB"
      },
      "source": [
        "X_train = X.head(X.shape[0] -1)\n",
        "y_train=y.head(y.shape[0]-1)\n",
        "X_test= X.tail(1)\n",
        "y_test=y.tail(1)"
      ],
      "execution_count": 33,
      "outputs": []
    },
    {
      "cell_type": "code",
      "metadata": {
        "id": "_bJzwgqfozr2"
      },
      "source": [
        "\n",
        "## defining a reusable function to evaluate model performance\n",
        "\n",
        "def eval_result(model_name,y_train,y_predtrain,y_test,y_predtest,n_neighbors):\n",
        "\n",
        "    rmse_train = mean_squared_error(y_train, y_predtrain, squared=False)\n",
        "    print( f\"RMSE Train error for k= {n_neighbors} is {rmse_train}\")\n",
        "    rmse_test = mean_squared_error(y_test, y_predtest, squared=False)\n",
        "    print( f\"RMSE Test error for k= {n_neighbors} is {rmse_test}\")"
      ],
      "execution_count": 34,
      "outputs": []
    },
    {
      "cell_type": "code",
      "metadata": {
        "id": "sZwmXMlNo3Bi"
      },
      "source": [
        "# reusable function to calculate run time for model training\n",
        "\n",
        "def run_model(model):\n",
        "    t0=time.time()\n",
        "    model.fit(X_train,y_train)\n",
        "    time_taken= time.time()- t0\n",
        "    print(f'Time taken: {time_taken}')"
      ],
      "execution_count": 35,
      "outputs": []
    },
    {
      "cell_type": "code",
      "metadata": {
        "colab": {
          "base_uri": "https://localhost:8080/"
        },
        "id": "YT3_uuSso7EI",
        "outputId": "eb4f8b19-602a-4a2e-ad34-59fd5d49fd07"
      },
      "source": [
        "# p = 2 is equivalent to using the euclidean distance\n",
        "# weights = 'distance' means closer points are weighted more heavily than further away points\n",
        "# weights = 'Uniform' means every point is given equal weight.\n",
        "n_neighbors = 3\n",
        "model1 = KNeighborsRegressor(n_neighbors=n_neighbors,weights='distance',algorithm='auto',p=2)\n",
        "run_model(model1)\n",
        "#model1.fit(X_train,y_train)\n",
        "\n",
        "y_hat_train = model1.predict(X_train)\n",
        "y_hat_test = model1.predict(X_test)\n",
        "#y_hat_test=pd.DataFrame(y_hat_test)\n",
        "eval_result(model1,y_train,y_hat_train,y_test,y_hat_test,n_neighbors)\n"
      ],
      "execution_count": 36,
      "outputs": [
        {
          "output_type": "stream",
          "text": [
            "Time taken: 0.00128936767578125\n",
            "RMSE Train error for k= 3 is 0.2721655269759087\n",
            "RMSE Test error for k= 3 is 12.376336766074573\n"
          ],
          "name": "stdout"
        }
      ]
    },
    {
      "cell_type": "code",
      "metadata": {
        "colab": {
          "base_uri": "https://localhost:8080/"
        },
        "id": "EC4oqvnJo88B",
        "outputId": "ad117002-2768-4631-ac96-ffda07a620dd"
      },
      "source": [
        "# p = 2 is equivalent to using the euclidean distance\n",
        "\n",
        "for n_neighbors in range(1,4):\n",
        "  model1 = KNeighborsRegressor(n_neighbors=n_neighbors,weights='distance',algorithm='auto',p=2)\n",
        "  run_model(model1)\n",
        "  #model1.fit(X_train,y_train)\n",
        "\n",
        "  y_hat_train = model1.predict(X_train)\n",
        "  y_hat_test = model1.predict(X_test)\n",
        "  print(f'Prediction for K= {n_neighbors} is {y_hat_test}')\n",
        "  print(f'Actual for K= {n_neighbors} is {y_test.values}')\n",
        "  y_hat_test=pd.DataFrame(y_hat_test)\n",
        "\n",
        "  eval_result(model1,y_train,y_hat_train,y_test,y_hat_test,n_neighbors)"
      ],
      "execution_count": 37,
      "outputs": [
        {
          "output_type": "stream",
          "text": [
            "Time taken: 0.0011234283447265625\n",
            "Prediction for K= 1 is [96.]\n",
            "Actual for K= 1 is [100.]\n",
            "RMSE Train error for k= 1 is 0.3849001794597505\n",
            "RMSE Test error for k= 1 is 4.0\n",
            "Time taken: 0.0006678104400634766\n",
            "Prediction for K= 2 is [95.19206281]\n",
            "Actual for K= 2 is [100.]\n",
            "RMSE Train error for k= 2 is 0.2721655269759087\n",
            "RMSE Test error for k= 2 is 4.8079371877103085\n",
            "Time taken: 0.0007367134094238281\n",
            "Prediction for K= 3 is [87.62366323]\n",
            "Actual for K= 3 is [100.]\n",
            "RMSE Train error for k= 3 is 0.2721655269759087\n",
            "RMSE Test error for k= 3 is 12.376336766074573\n"
          ],
          "name": "stdout"
        }
      ]
    },
    {
      "cell_type": "code",
      "metadata": {
        "colab": {
          "base_uri": "https://localhost:8080/"
        },
        "id": "FKnu-PknpFtv",
        "outputId": "7327348e-3408-42c6-c5da-5e9712e2b048"
      },
      "source": [
        "# p = 1 is equivalent to using the manhattan distance\n",
        "\n",
        "for n_neighbors in range(1,4):\n",
        "  model1 = KNeighborsRegressor(n_neighbors=n_neighbors,weights='distance',algorithm='auto',p=1)\n",
        "  run_model(model1)\n",
        "  y_hat_train = model1.predict(X_train)\n",
        "  y_hat_test = model1.predict(X_test)\n",
        "  print(f'Prediction for K= {n_neighbors} is {y_hat_test}')\n",
        "  print(f'Actual for K= {n_neighbors} is {y_test.values}')\n",
        "  y_hat_test=pd.DataFrame(y_hat_test)\n",
        "\n",
        "  eval_result(model1,y_train,y_hat_train,y_test,y_hat_test,n_neighbors)"
      ],
      "execution_count": 38,
      "outputs": [
        {
          "output_type": "stream",
          "text": [
            "Time taken: 0.001041412353515625\n",
            "Prediction for K= 1 is [96.]\n",
            "Actual for K= 1 is [100.]\n",
            "RMSE Train error for k= 1 is 0.3849001794597505\n",
            "RMSE Test error for k= 1 is 4.0\n",
            "Time taken: 0.0008928775787353516\n",
            "Prediction for K= 2 is [93.47222222]\n",
            "Actual for K= 2 is [100.]\n",
            "RMSE Train error for k= 2 is 0.2721655269759087\n",
            "RMSE Test error for k= 2 is 6.5277777777777715\n",
            "Time taken: 0.0007045269012451172\n",
            "Prediction for K= 3 is [93.61004367]\n",
            "Actual for K= 3 is [100.]\n",
            "RMSE Train error for k= 3 is 0.2721655269759087\n",
            "RMSE Test error for k= 3 is 6.389956331877727\n"
          ],
          "name": "stdout"
        }
      ]
    },
    {
      "cell_type": "code",
      "metadata": {
        "colab": {
          "base_uri": "https://localhost:8080/"
        },
        "id": "7JORYUYwpO9s",
        "outputId": "ac1d8bab-93b4-4838-ccda-f0554ceccc70"
      },
      "source": [
        "# p = 3 is equivalent to using the minkowski distance\n",
        "\n",
        "for n_neighbors in range(1,4):\n",
        "  model1 = KNeighborsRegressor(n_neighbors=n_neighbors,weights='distance',algorithm='auto',p=3)\n",
        "  run_model(model1)\n",
        "  y_hat_train = model1.predict(X_train)\n",
        "  y_hat_test = model1.predict(X_test)\n",
        "  print(f'Prediction for K= {n_neighbors} is {y_hat_test}')\n",
        "  print(f'Actual for K= {n_neighbors} is {y_test.values}')\n",
        "\n",
        "  eval_result(model1,y_train,y_hat_train,y_test,y_hat_test,n_neighbors)"
      ],
      "execution_count": 39,
      "outputs": [
        {
          "output_type": "stream",
          "text": [
            "Time taken: 0.0010857582092285156\n",
            "Prediction for K= 1 is [96.]\n",
            "Actual for K= 1 is [100.]\n",
            "RMSE Train error for k= 1 is 0.3849001794597505\n",
            "RMSE Test error for k= 1 is 3.999999999999986\n",
            "Time taken: 0.0006811618804931641\n",
            "Prediction for K= 2 is [95.1448283]\n",
            "Actual for K= 2 is [100.]\n",
            "RMSE Train error for k= 2 is 0.2721655269759087\n",
            "RMSE Test error for k= 2 is 4.855171699716834\n",
            "Time taken: 0.0007872581481933594\n",
            "Prediction for K= 3 is [87.38396711]\n",
            "Actual for K= 3 is [100.]\n",
            "RMSE Train error for k= 3 is 0.2721655269759087\n",
            "RMSE Test error for k= 3 is 12.616032885738605\n"
          ],
          "name": "stdout"
        }
      ]
    }
  ]
}